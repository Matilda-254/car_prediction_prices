{
 "cells": [
  {
   "cell_type": "code",
   "execution_count": 1,
   "id": "f496cdce",
   "metadata": {},
   "outputs": [
    {
     "data": {
      "application/vnd.microsoft.datawrangler.viewer.v0+json": {
       "columns": [
        {
         "name": "index",
         "rawType": "int64",
         "type": "integer"
        },
        {
         "name": "name",
         "rawType": "object",
         "type": "string"
        },
        {
         "name": "year",
         "rawType": "int64",
         "type": "integer"
        },
        {
         "name": "selling_price",
         "rawType": "int64",
         "type": "integer"
        },
        {
         "name": "km_driven",
         "rawType": "int64",
         "type": "integer"
        },
        {
         "name": "fuel",
         "rawType": "object",
         "type": "string"
        },
        {
         "name": "seller_type",
         "rawType": "object",
         "type": "string"
        },
        {
         "name": "transmission",
         "rawType": "object",
         "type": "string"
        },
        {
         "name": "owner",
         "rawType": "object",
         "type": "string"
        },
        {
         "name": "mileage(km/ltr/kg)",
         "rawType": "float64",
         "type": "float"
        },
        {
         "name": "engine",
         "rawType": "float64",
         "type": "float"
        },
        {
         "name": "max_power",
         "rawType": "object",
         "type": "unknown"
        },
        {
         "name": "seats",
         "rawType": "float64",
         "type": "float"
        }
       ],
       "ref": "baa7b718-c17b-4da8-aa72-1a2957a76d7b",
       "rows": [
        [
         "0",
         "Maruti Swift Dzire VDI",
         "2014",
         "450000",
         "145500",
         "Diesel",
         "Individual",
         "Manual",
         "First Owner",
         "23.4",
         "1248.0",
         "74",
         "5.0"
        ],
        [
         "1",
         "Skoda Rapid 1.5 TDI Ambition",
         "2014",
         "370000",
         "120000",
         "Diesel",
         "Individual",
         "Manual",
         "Second Owner",
         "21.14",
         "1498.0",
         "103.52",
         "5.0"
        ],
        [
         "2",
         "Honda City 2017-2020 EXi",
         "2006",
         "158000",
         "140000",
         "Petrol",
         "Individual",
         "Manual",
         "Third Owner",
         "17.7",
         "1497.0",
         "78",
         "5.0"
        ],
        [
         "3",
         "Hyundai i20 Sportz Diesel",
         "2010",
         "225000",
         "127000",
         "Diesel",
         "Individual",
         "Manual",
         "First Owner",
         "23.0",
         "1396.0",
         "90",
         "5.0"
        ],
        [
         "4",
         "Maruti Swift VXI BSIII",
         "2007",
         "130000",
         "120000",
         "Petrol",
         "Individual",
         "Manual",
         "First Owner",
         "16.1",
         "1298.0",
         "88.2",
         "5.0"
        ],
        [
         "5",
         "Hyundai Xcent 1.2 VTVT E Plus",
         "2017",
         "440000",
         "45000",
         "Petrol",
         "Individual",
         "Manual",
         "First Owner",
         "20.14",
         "1197.0",
         "81.86",
         "5.0"
        ],
        [
         "6",
         "Maruti Wagon R LXI DUO BSIII",
         "2007",
         "96000",
         "175000",
         "LPG",
         "Individual",
         "Manual",
         "First Owner",
         "17.3",
         "1061.0",
         "57.5",
         "5.0"
        ],
        [
         "7",
         "Maruti 800 DX BSII",
         "2001",
         "45000",
         "5000",
         "Petrol",
         "Individual",
         "Manual",
         "Second Owner",
         "16.1",
         "796.0",
         "37",
         "4.0"
        ],
        [
         "8",
         "Toyota Etios VXD",
         "2011",
         "350000",
         "90000",
         "Diesel",
         "Individual",
         "Manual",
         "First Owner",
         "23.59",
         "1364.0",
         "67.1",
         "5.0"
        ],
        [
         "9",
         "Ford Figo Diesel Celebration Edition",
         "2013",
         "200000",
         "169000",
         "Diesel",
         "Individual",
         "Manual",
         "First Owner",
         "20.0",
         "1399.0",
         "68.1",
         "5.0"
        ],
        [
         "10",
         "Renault Duster 110PS Diesel RxL",
         "2014",
         "500000",
         "68000",
         "Diesel",
         "Individual",
         "Manual",
         "Second Owner",
         "19.01",
         "1461.0",
         "108.45",
         "5.0"
        ],
        [
         "11",
         "Maruti Zen LX",
         "2005",
         "92000",
         "100000",
         "Petrol",
         "Individual",
         "Manual",
         "Second Owner",
         "17.3",
         "993.0",
         "60",
         "5.0"
        ],
        [
         "12",
         "Maruti Swift Dzire VDi",
         "2009",
         "280000",
         "140000",
         "Diesel",
         "Individual",
         "Manual",
         "Second Owner",
         "19.3",
         "1248.0",
         "73.9",
         "5.0"
        ],
        [
         "13",
         "Maruti Swift 1.3 VXi",
         "2007",
         "200000",
         "80000",
         "Petrol",
         "Individual",
         "Manual",
         "Second Owner",
         null,
         null,
         null,
         null
        ],
        [
         "14",
         "Maruti Wagon R LXI Minor",
         "2009",
         "180000",
         "90000",
         "Petrol",
         "Individual",
         "Manual",
         "Second Owner",
         "18.9",
         "1061.0",
         "67",
         "5.0"
        ],
        [
         "15",
         "Mahindra KUV 100 mFALCON G80 K8 5str",
         "2016",
         "400000",
         "40000",
         "Petrol",
         "Individual",
         "Manual",
         "First Owner",
         "18.15",
         "1198.0",
         "82",
         "5.0"
        ],
        [
         "16",
         "Maruti Ertiga SHVS VDI",
         "2016",
         "778000",
         "70000",
         "Diesel",
         "Individual",
         "Manual",
         "Second Owner",
         "24.52",
         "1248.0",
         "88.5",
         "7.0"
        ],
        [
         "17",
         "Hyundai i20 1.4 CRDi Asta",
         "2012",
         "500000",
         "53000",
         "Diesel",
         "Individual",
         "Manual",
         "Second Owner",
         "23.0",
         "1396.0",
         "90",
         "5.0"
        ],
        [
         "18",
         "Maruti Alto LX",
         "2002",
         "150000",
         "80000",
         "Petrol",
         "Individual",
         "Manual",
         "Second Owner",
         "19.7",
         "796.0",
         "46.3",
         "5.0"
        ],
        [
         "19",
         "Hyundai i20 2015-2017 Asta 1.4 CRDi",
         "2016",
         "680000",
         "100000",
         "Diesel",
         "Individual",
         "Manual",
         "First Owner",
         "22.54",
         "1396.0",
         "88.73",
         "5.0"
        ]
       ],
       "shape": {
        "columns": 12,
        "rows": 20
       }
      },
      "text/html": [
       "<div>\n",
       "<style scoped>\n",
       "    .dataframe tbody tr th:only-of-type {\n",
       "        vertical-align: middle;\n",
       "    }\n",
       "\n",
       "    .dataframe tbody tr th {\n",
       "        vertical-align: top;\n",
       "    }\n",
       "\n",
       "    .dataframe thead th {\n",
       "        text-align: right;\n",
       "    }\n",
       "</style>\n",
       "<table border=\"1\" class=\"dataframe\">\n",
       "  <thead>\n",
       "    <tr style=\"text-align: right;\">\n",
       "      <th></th>\n",
       "      <th>name</th>\n",
       "      <th>year</th>\n",
       "      <th>selling_price</th>\n",
       "      <th>km_driven</th>\n",
       "      <th>fuel</th>\n",
       "      <th>seller_type</th>\n",
       "      <th>transmission</th>\n",
       "      <th>owner</th>\n",
       "      <th>mileage(km/ltr/kg)</th>\n",
       "      <th>engine</th>\n",
       "      <th>max_power</th>\n",
       "      <th>seats</th>\n",
       "    </tr>\n",
       "  </thead>\n",
       "  <tbody>\n",
       "    <tr>\n",
       "      <th>0</th>\n",
       "      <td>Maruti Swift Dzire VDI</td>\n",
       "      <td>2014</td>\n",
       "      <td>450000</td>\n",
       "      <td>145500</td>\n",
       "      <td>Diesel</td>\n",
       "      <td>Individual</td>\n",
       "      <td>Manual</td>\n",
       "      <td>First Owner</td>\n",
       "      <td>23.40</td>\n",
       "      <td>1248.0</td>\n",
       "      <td>74</td>\n",
       "      <td>5.0</td>\n",
       "    </tr>\n",
       "    <tr>\n",
       "      <th>1</th>\n",
       "      <td>Skoda Rapid 1.5 TDI Ambition</td>\n",
       "      <td>2014</td>\n",
       "      <td>370000</td>\n",
       "      <td>120000</td>\n",
       "      <td>Diesel</td>\n",
       "      <td>Individual</td>\n",
       "      <td>Manual</td>\n",
       "      <td>Second Owner</td>\n",
       "      <td>21.14</td>\n",
       "      <td>1498.0</td>\n",
       "      <td>103.52</td>\n",
       "      <td>5.0</td>\n",
       "    </tr>\n",
       "    <tr>\n",
       "      <th>2</th>\n",
       "      <td>Honda City 2017-2020 EXi</td>\n",
       "      <td>2006</td>\n",
       "      <td>158000</td>\n",
       "      <td>140000</td>\n",
       "      <td>Petrol</td>\n",
       "      <td>Individual</td>\n",
       "      <td>Manual</td>\n",
       "      <td>Third Owner</td>\n",
       "      <td>17.70</td>\n",
       "      <td>1497.0</td>\n",
       "      <td>78</td>\n",
       "      <td>5.0</td>\n",
       "    </tr>\n",
       "    <tr>\n",
       "      <th>3</th>\n",
       "      <td>Hyundai i20 Sportz Diesel</td>\n",
       "      <td>2010</td>\n",
       "      <td>225000</td>\n",
       "      <td>127000</td>\n",
       "      <td>Diesel</td>\n",
       "      <td>Individual</td>\n",
       "      <td>Manual</td>\n",
       "      <td>First Owner</td>\n",
       "      <td>23.00</td>\n",
       "      <td>1396.0</td>\n",
       "      <td>90</td>\n",
       "      <td>5.0</td>\n",
       "    </tr>\n",
       "    <tr>\n",
       "      <th>4</th>\n",
       "      <td>Maruti Swift VXI BSIII</td>\n",
       "      <td>2007</td>\n",
       "      <td>130000</td>\n",
       "      <td>120000</td>\n",
       "      <td>Petrol</td>\n",
       "      <td>Individual</td>\n",
       "      <td>Manual</td>\n",
       "      <td>First Owner</td>\n",
       "      <td>16.10</td>\n",
       "      <td>1298.0</td>\n",
       "      <td>88.2</td>\n",
       "      <td>5.0</td>\n",
       "    </tr>\n",
       "    <tr>\n",
       "      <th>5</th>\n",
       "      <td>Hyundai Xcent 1.2 VTVT E Plus</td>\n",
       "      <td>2017</td>\n",
       "      <td>440000</td>\n",
       "      <td>45000</td>\n",
       "      <td>Petrol</td>\n",
       "      <td>Individual</td>\n",
       "      <td>Manual</td>\n",
       "      <td>First Owner</td>\n",
       "      <td>20.14</td>\n",
       "      <td>1197.0</td>\n",
       "      <td>81.86</td>\n",
       "      <td>5.0</td>\n",
       "    </tr>\n",
       "    <tr>\n",
       "      <th>6</th>\n",
       "      <td>Maruti Wagon R LXI DUO BSIII</td>\n",
       "      <td>2007</td>\n",
       "      <td>96000</td>\n",
       "      <td>175000</td>\n",
       "      <td>LPG</td>\n",
       "      <td>Individual</td>\n",
       "      <td>Manual</td>\n",
       "      <td>First Owner</td>\n",
       "      <td>17.30</td>\n",
       "      <td>1061.0</td>\n",
       "      <td>57.5</td>\n",
       "      <td>5.0</td>\n",
       "    </tr>\n",
       "    <tr>\n",
       "      <th>7</th>\n",
       "      <td>Maruti 800 DX BSII</td>\n",
       "      <td>2001</td>\n",
       "      <td>45000</td>\n",
       "      <td>5000</td>\n",
       "      <td>Petrol</td>\n",
       "      <td>Individual</td>\n",
       "      <td>Manual</td>\n",
       "      <td>Second Owner</td>\n",
       "      <td>16.10</td>\n",
       "      <td>796.0</td>\n",
       "      <td>37</td>\n",
       "      <td>4.0</td>\n",
       "    </tr>\n",
       "    <tr>\n",
       "      <th>8</th>\n",
       "      <td>Toyota Etios VXD</td>\n",
       "      <td>2011</td>\n",
       "      <td>350000</td>\n",
       "      <td>90000</td>\n",
       "      <td>Diesel</td>\n",
       "      <td>Individual</td>\n",
       "      <td>Manual</td>\n",
       "      <td>First Owner</td>\n",
       "      <td>23.59</td>\n",
       "      <td>1364.0</td>\n",
       "      <td>67.1</td>\n",
       "      <td>5.0</td>\n",
       "    </tr>\n",
       "    <tr>\n",
       "      <th>9</th>\n",
       "      <td>Ford Figo Diesel Celebration Edition</td>\n",
       "      <td>2013</td>\n",
       "      <td>200000</td>\n",
       "      <td>169000</td>\n",
       "      <td>Diesel</td>\n",
       "      <td>Individual</td>\n",
       "      <td>Manual</td>\n",
       "      <td>First Owner</td>\n",
       "      <td>20.00</td>\n",
       "      <td>1399.0</td>\n",
       "      <td>68.1</td>\n",
       "      <td>5.0</td>\n",
       "    </tr>\n",
       "    <tr>\n",
       "      <th>10</th>\n",
       "      <td>Renault Duster 110PS Diesel RxL</td>\n",
       "      <td>2014</td>\n",
       "      <td>500000</td>\n",
       "      <td>68000</td>\n",
       "      <td>Diesel</td>\n",
       "      <td>Individual</td>\n",
       "      <td>Manual</td>\n",
       "      <td>Second Owner</td>\n",
       "      <td>19.01</td>\n",
       "      <td>1461.0</td>\n",
       "      <td>108.45</td>\n",
       "      <td>5.0</td>\n",
       "    </tr>\n",
       "    <tr>\n",
       "      <th>11</th>\n",
       "      <td>Maruti Zen LX</td>\n",
       "      <td>2005</td>\n",
       "      <td>92000</td>\n",
       "      <td>100000</td>\n",
       "      <td>Petrol</td>\n",
       "      <td>Individual</td>\n",
       "      <td>Manual</td>\n",
       "      <td>Second Owner</td>\n",
       "      <td>17.30</td>\n",
       "      <td>993.0</td>\n",
       "      <td>60</td>\n",
       "      <td>5.0</td>\n",
       "    </tr>\n",
       "    <tr>\n",
       "      <th>12</th>\n",
       "      <td>Maruti Swift Dzire VDi</td>\n",
       "      <td>2009</td>\n",
       "      <td>280000</td>\n",
       "      <td>140000</td>\n",
       "      <td>Diesel</td>\n",
       "      <td>Individual</td>\n",
       "      <td>Manual</td>\n",
       "      <td>Second Owner</td>\n",
       "      <td>19.30</td>\n",
       "      <td>1248.0</td>\n",
       "      <td>73.9</td>\n",
       "      <td>5.0</td>\n",
       "    </tr>\n",
       "    <tr>\n",
       "      <th>13</th>\n",
       "      <td>Maruti Swift 1.3 VXi</td>\n",
       "      <td>2007</td>\n",
       "      <td>200000</td>\n",
       "      <td>80000</td>\n",
       "      <td>Petrol</td>\n",
       "      <td>Individual</td>\n",
       "      <td>Manual</td>\n",
       "      <td>Second Owner</td>\n",
       "      <td>NaN</td>\n",
       "      <td>NaN</td>\n",
       "      <td>NaN</td>\n",
       "      <td>NaN</td>\n",
       "    </tr>\n",
       "    <tr>\n",
       "      <th>14</th>\n",
       "      <td>Maruti Wagon R LXI Minor</td>\n",
       "      <td>2009</td>\n",
       "      <td>180000</td>\n",
       "      <td>90000</td>\n",
       "      <td>Petrol</td>\n",
       "      <td>Individual</td>\n",
       "      <td>Manual</td>\n",
       "      <td>Second Owner</td>\n",
       "      <td>18.90</td>\n",
       "      <td>1061.0</td>\n",
       "      <td>67</td>\n",
       "      <td>5.0</td>\n",
       "    </tr>\n",
       "    <tr>\n",
       "      <th>15</th>\n",
       "      <td>Mahindra KUV 100 mFALCON G80 K8 5str</td>\n",
       "      <td>2016</td>\n",
       "      <td>400000</td>\n",
       "      <td>40000</td>\n",
       "      <td>Petrol</td>\n",
       "      <td>Individual</td>\n",
       "      <td>Manual</td>\n",
       "      <td>First Owner</td>\n",
       "      <td>18.15</td>\n",
       "      <td>1198.0</td>\n",
       "      <td>82</td>\n",
       "      <td>5.0</td>\n",
       "    </tr>\n",
       "    <tr>\n",
       "      <th>16</th>\n",
       "      <td>Maruti Ertiga SHVS VDI</td>\n",
       "      <td>2016</td>\n",
       "      <td>778000</td>\n",
       "      <td>70000</td>\n",
       "      <td>Diesel</td>\n",
       "      <td>Individual</td>\n",
       "      <td>Manual</td>\n",
       "      <td>Second Owner</td>\n",
       "      <td>24.52</td>\n",
       "      <td>1248.0</td>\n",
       "      <td>88.5</td>\n",
       "      <td>7.0</td>\n",
       "    </tr>\n",
       "    <tr>\n",
       "      <th>17</th>\n",
       "      <td>Hyundai i20 1.4 CRDi Asta</td>\n",
       "      <td>2012</td>\n",
       "      <td>500000</td>\n",
       "      <td>53000</td>\n",
       "      <td>Diesel</td>\n",
       "      <td>Individual</td>\n",
       "      <td>Manual</td>\n",
       "      <td>Second Owner</td>\n",
       "      <td>23.00</td>\n",
       "      <td>1396.0</td>\n",
       "      <td>90</td>\n",
       "      <td>5.0</td>\n",
       "    </tr>\n",
       "    <tr>\n",
       "      <th>18</th>\n",
       "      <td>Maruti Alto LX</td>\n",
       "      <td>2002</td>\n",
       "      <td>150000</td>\n",
       "      <td>80000</td>\n",
       "      <td>Petrol</td>\n",
       "      <td>Individual</td>\n",
       "      <td>Manual</td>\n",
       "      <td>Second Owner</td>\n",
       "      <td>19.70</td>\n",
       "      <td>796.0</td>\n",
       "      <td>46.3</td>\n",
       "      <td>5.0</td>\n",
       "    </tr>\n",
       "    <tr>\n",
       "      <th>19</th>\n",
       "      <td>Hyundai i20 2015-2017 Asta 1.4 CRDi</td>\n",
       "      <td>2016</td>\n",
       "      <td>680000</td>\n",
       "      <td>100000</td>\n",
       "      <td>Diesel</td>\n",
       "      <td>Individual</td>\n",
       "      <td>Manual</td>\n",
       "      <td>First Owner</td>\n",
       "      <td>22.54</td>\n",
       "      <td>1396.0</td>\n",
       "      <td>88.73</td>\n",
       "      <td>5.0</td>\n",
       "    </tr>\n",
       "  </tbody>\n",
       "</table>\n",
       "</div>"
      ],
      "text/plain": [
       "                                    name  year  selling_price  km_driven  \\\n",
       "0                 Maruti Swift Dzire VDI  2014         450000     145500   \n",
       "1           Skoda Rapid 1.5 TDI Ambition  2014         370000     120000   \n",
       "2               Honda City 2017-2020 EXi  2006         158000     140000   \n",
       "3              Hyundai i20 Sportz Diesel  2010         225000     127000   \n",
       "4                 Maruti Swift VXI BSIII  2007         130000     120000   \n",
       "5          Hyundai Xcent 1.2 VTVT E Plus  2017         440000      45000   \n",
       "6           Maruti Wagon R LXI DUO BSIII  2007          96000     175000   \n",
       "7                     Maruti 800 DX BSII  2001          45000       5000   \n",
       "8                       Toyota Etios VXD  2011         350000      90000   \n",
       "9   Ford Figo Diesel Celebration Edition  2013         200000     169000   \n",
       "10       Renault Duster 110PS Diesel RxL  2014         500000      68000   \n",
       "11                         Maruti Zen LX  2005          92000     100000   \n",
       "12                Maruti Swift Dzire VDi  2009         280000     140000   \n",
       "13                  Maruti Swift 1.3 VXi  2007         200000      80000   \n",
       "14              Maruti Wagon R LXI Minor  2009         180000      90000   \n",
       "15  Mahindra KUV 100 mFALCON G80 K8 5str  2016         400000      40000   \n",
       "16                Maruti Ertiga SHVS VDI  2016         778000      70000   \n",
       "17             Hyundai i20 1.4 CRDi Asta  2012         500000      53000   \n",
       "18                        Maruti Alto LX  2002         150000      80000   \n",
       "19   Hyundai i20 2015-2017 Asta 1.4 CRDi  2016         680000     100000   \n",
       "\n",
       "      fuel seller_type transmission         owner  mileage(km/ltr/kg)  engine  \\\n",
       "0   Diesel  Individual       Manual   First Owner               23.40  1248.0   \n",
       "1   Diesel  Individual       Manual  Second Owner               21.14  1498.0   \n",
       "2   Petrol  Individual       Manual   Third Owner               17.70  1497.0   \n",
       "3   Diesel  Individual       Manual   First Owner               23.00  1396.0   \n",
       "4   Petrol  Individual       Manual   First Owner               16.10  1298.0   \n",
       "5   Petrol  Individual       Manual   First Owner               20.14  1197.0   \n",
       "6      LPG  Individual       Manual   First Owner               17.30  1061.0   \n",
       "7   Petrol  Individual       Manual  Second Owner               16.10   796.0   \n",
       "8   Diesel  Individual       Manual   First Owner               23.59  1364.0   \n",
       "9   Diesel  Individual       Manual   First Owner               20.00  1399.0   \n",
       "10  Diesel  Individual       Manual  Second Owner               19.01  1461.0   \n",
       "11  Petrol  Individual       Manual  Second Owner               17.30   993.0   \n",
       "12  Diesel  Individual       Manual  Second Owner               19.30  1248.0   \n",
       "13  Petrol  Individual       Manual  Second Owner                 NaN     NaN   \n",
       "14  Petrol  Individual       Manual  Second Owner               18.90  1061.0   \n",
       "15  Petrol  Individual       Manual   First Owner               18.15  1198.0   \n",
       "16  Diesel  Individual       Manual  Second Owner               24.52  1248.0   \n",
       "17  Diesel  Individual       Manual  Second Owner               23.00  1396.0   \n",
       "18  Petrol  Individual       Manual  Second Owner               19.70   796.0   \n",
       "19  Diesel  Individual       Manual   First Owner               22.54  1396.0   \n",
       "\n",
       "   max_power  seats  \n",
       "0         74    5.0  \n",
       "1     103.52    5.0  \n",
       "2         78    5.0  \n",
       "3         90    5.0  \n",
       "4       88.2    5.0  \n",
       "5      81.86    5.0  \n",
       "6       57.5    5.0  \n",
       "7         37    4.0  \n",
       "8       67.1    5.0  \n",
       "9       68.1    5.0  \n",
       "10    108.45    5.0  \n",
       "11        60    5.0  \n",
       "12      73.9    5.0  \n",
       "13       NaN    NaN  \n",
       "14        67    5.0  \n",
       "15        82    5.0  \n",
       "16      88.5    7.0  \n",
       "17        90    5.0  \n",
       "18      46.3    5.0  \n",
       "19     88.73    5.0  "
      ]
     },
     "execution_count": 1,
     "metadata": {},
     "output_type": "execute_result"
    }
   ],
   "source": [
    "import pandas as pd\n",
    "df = pd.read_csv(r\"cardekho.csv\")\n",
    "\n",
    "df.head(20)"
   ]
  },
  {
   "cell_type": "code",
   "execution_count": 2,
   "id": "96501d50",
   "metadata": {},
   "outputs": [
    {
     "data": {
      "application/vnd.microsoft.datawrangler.viewer.v0+json": {
       "columns": [
        {
         "name": "index",
         "rawType": "int64",
         "type": "integer"
        },
        {
         "name": "name",
         "rawType": "object",
         "type": "string"
        },
        {
         "name": "year",
         "rawType": "int64",
         "type": "integer"
        },
        {
         "name": "selling_price",
         "rawType": "int64",
         "type": "integer"
        },
        {
         "name": "km_driven",
         "rawType": "int64",
         "type": "integer"
        },
        {
         "name": "fuel",
         "rawType": "object",
         "type": "string"
        },
        {
         "name": "seller_type",
         "rawType": "object",
         "type": "string"
        },
        {
         "name": "transmission",
         "rawType": "object",
         "type": "string"
        },
        {
         "name": "owner",
         "rawType": "object",
         "type": "string"
        },
        {
         "name": "mileage(km/ltr/kg)",
         "rawType": "float64",
         "type": "float"
        },
        {
         "name": "engine",
         "rawType": "float64",
         "type": "float"
        },
        {
         "name": "max_power",
         "rawType": "object",
         "type": "string"
        },
        {
         "name": "seats",
         "rawType": "float64",
         "type": "float"
        }
       ],
       "ref": "b8cf827a-6caf-493d-a47a-6b2cd3cf3bef",
       "rows": [
        [
         "8108",
         "Kia Seltos HTX Plus AT D",
         "2019",
         "1575000",
         "20000",
         "Diesel",
         "Individual",
         "Automatic",
         "First Owner",
         "17.8",
         "1493.0",
         "113.4",
         "5.0"
        ],
        [
         "8109",
         "Ford Freestyle Titanium Plus Diesel BSIV",
         "2018",
         "750000",
         "24000",
         "Diesel",
         "Individual",
         "Manual",
         "First Owner",
         "24.4",
         "1498.0",
         "98.63",
         "5.0"
        ],
        [
         "8110",
         "Maruti Celerio VXI",
         "2017",
         "425000",
         "12000",
         "Petrol",
         "Individual",
         "Manual",
         "First Owner",
         "23.1",
         "998.0",
         "67.04",
         "5.0"
        ],
        [
         "8111",
         "Toyota Etios Cross 1.4L GD",
         "2014",
         "425000",
         "50000",
         "Diesel",
         "Individual",
         "Manual",
         "First Owner",
         "23.59",
         "1364.0",
         "67.06",
         "5.0"
        ],
        [
         "8112",
         "Ford Freestyle Titanium Plus Diesel BSIV",
         "2018",
         "746000",
         "24000",
         "Diesel",
         "Individual",
         "Manual",
         "First Owner",
         "24.4",
         "1498.0",
         "98.63",
         "5.0"
        ],
        [
         "8113",
         "Toyota Innova 2.5 GX (Diesel) 8 Seater BS IV",
         "2010",
         "425000",
         "129000",
         "Diesel",
         "Individual",
         "Manual",
         "First Owner",
         "12.8",
         "2494.0",
         "102",
         "8.0"
        ],
        [
         "8114",
         "Maruti Alto LXi",
         "2011",
         "200000",
         "73000",
         "Petrol",
         "Individual",
         "Manual",
         "First Owner",
         "19.7",
         "796.0",
         "46.3",
         "5.0"
        ],
        [
         "8115",
         "Maruti 800 AC",
         "1997",
         "40000",
         "120000",
         "Petrol",
         "Individual",
         "Manual",
         "First Owner",
         "16.1",
         "796.0",
         "37",
         "4.0"
        ],
        [
         "8116",
         "Maruti Alto K10 VXI Airbag",
         "2017",
         "340000",
         "45000",
         "Petrol",
         "Individual",
         "Manual",
         "First Owner",
         "23.95",
         "998.0",
         "67.1",
         "5.0"
        ],
        [
         "8117",
         "Maruti Swift Dzire VDI",
         "2015",
         "625000",
         "50000",
         "Diesel",
         "Individual",
         "Manual",
         "First Owner",
         "26.59",
         "1248.0",
         "74",
         "5.0"
        ],
        [
         "8118",
         "Hyundai i20 Magna",
         "2013",
         "380000",
         "25000",
         "Petrol",
         "Individual",
         "Manual",
         "First Owner",
         "18.5",
         "1197.0",
         "82.85",
         "5.0"
        ],
        [
         "8119",
         "Maruti Wagon R LXI Optional",
         "2017",
         "360000",
         "80000",
         "Petrol",
         "Individual",
         "Manual",
         "First Owner",
         "20.51",
         "998.0",
         "67.04",
         "5.0"
        ],
        [
         "8120",
         "Hyundai Santro Xing GLS",
         "2008",
         "120000",
         "191000",
         "Petrol",
         "Individual",
         "Manual",
         "First Owner",
         "17.92",
         "1086.0",
         "62.1",
         "5.0"
        ],
        [
         "8121",
         "Maruti Wagon R VXI BS IV with ABS",
         "2013",
         "260000",
         "50000",
         "Petrol",
         "Individual",
         "Manual",
         "Second Owner",
         "18.9",
         "998.0",
         "67.1",
         "5.0"
        ],
        [
         "8122",
         "Hyundai i20 Magna 1.4 CRDi",
         "2014",
         "475000",
         "80000",
         "Diesel",
         "Individual",
         "Manual",
         "Second Owner",
         "22.54",
         "1396.0",
         "88.73",
         "5.0"
        ],
        [
         "8123",
         "Hyundai i20 Magna",
         "2013",
         "320000",
         "110000",
         "Petrol",
         "Individual",
         "Manual",
         "First Owner",
         "18.5",
         "1197.0",
         "82.85",
         "5.0"
        ],
        [
         "8124",
         "Hyundai Verna CRDi SX",
         "2007",
         "135000",
         "119000",
         "Diesel",
         "Individual",
         "Manual",
         "Fourth & Above Owner",
         "16.8",
         "1493.0",
         "110",
         "5.0"
        ],
        [
         "8125",
         "Maruti Swift Dzire ZDi",
         "2009",
         "382000",
         "120000",
         "Diesel",
         "Individual",
         "Manual",
         "First Owner",
         "19.3",
         "1248.0",
         "73.9",
         "5.0"
        ],
        [
         "8126",
         "Tata Indigo CR4",
         "2013",
         "290000",
         "25000",
         "Diesel",
         "Individual",
         "Manual",
         "First Owner",
         "23.57",
         "1396.0",
         "70",
         "5.0"
        ],
        [
         "8127",
         "Tata Indigo CR4",
         "2013",
         "290000",
         "25000",
         "Diesel",
         "Individual",
         "Manual",
         "First Owner",
         "23.57",
         "1396.0",
         "70",
         "5.0"
        ]
       ],
       "shape": {
        "columns": 12,
        "rows": 20
       }
      },
      "text/html": [
       "<div>\n",
       "<style scoped>\n",
       "    .dataframe tbody tr th:only-of-type {\n",
       "        vertical-align: middle;\n",
       "    }\n",
       "\n",
       "    .dataframe tbody tr th {\n",
       "        vertical-align: top;\n",
       "    }\n",
       "\n",
       "    .dataframe thead th {\n",
       "        text-align: right;\n",
       "    }\n",
       "</style>\n",
       "<table border=\"1\" class=\"dataframe\">\n",
       "  <thead>\n",
       "    <tr style=\"text-align: right;\">\n",
       "      <th></th>\n",
       "      <th>name</th>\n",
       "      <th>year</th>\n",
       "      <th>selling_price</th>\n",
       "      <th>km_driven</th>\n",
       "      <th>fuel</th>\n",
       "      <th>seller_type</th>\n",
       "      <th>transmission</th>\n",
       "      <th>owner</th>\n",
       "      <th>mileage(km/ltr/kg)</th>\n",
       "      <th>engine</th>\n",
       "      <th>max_power</th>\n",
       "      <th>seats</th>\n",
       "    </tr>\n",
       "  </thead>\n",
       "  <tbody>\n",
       "    <tr>\n",
       "      <th>8108</th>\n",
       "      <td>Kia Seltos HTX Plus AT D</td>\n",
       "      <td>2019</td>\n",
       "      <td>1575000</td>\n",
       "      <td>20000</td>\n",
       "      <td>Diesel</td>\n",
       "      <td>Individual</td>\n",
       "      <td>Automatic</td>\n",
       "      <td>First Owner</td>\n",
       "      <td>17.80</td>\n",
       "      <td>1493.0</td>\n",
       "      <td>113.4</td>\n",
       "      <td>5.0</td>\n",
       "    </tr>\n",
       "    <tr>\n",
       "      <th>8109</th>\n",
       "      <td>Ford Freestyle Titanium Plus Diesel BSIV</td>\n",
       "      <td>2018</td>\n",
       "      <td>750000</td>\n",
       "      <td>24000</td>\n",
       "      <td>Diesel</td>\n",
       "      <td>Individual</td>\n",
       "      <td>Manual</td>\n",
       "      <td>First Owner</td>\n",
       "      <td>24.40</td>\n",
       "      <td>1498.0</td>\n",
       "      <td>98.63</td>\n",
       "      <td>5.0</td>\n",
       "    </tr>\n",
       "    <tr>\n",
       "      <th>8110</th>\n",
       "      <td>Maruti Celerio VXI</td>\n",
       "      <td>2017</td>\n",
       "      <td>425000</td>\n",
       "      <td>12000</td>\n",
       "      <td>Petrol</td>\n",
       "      <td>Individual</td>\n",
       "      <td>Manual</td>\n",
       "      <td>First Owner</td>\n",
       "      <td>23.10</td>\n",
       "      <td>998.0</td>\n",
       "      <td>67.04</td>\n",
       "      <td>5.0</td>\n",
       "    </tr>\n",
       "    <tr>\n",
       "      <th>8111</th>\n",
       "      <td>Toyota Etios Cross 1.4L GD</td>\n",
       "      <td>2014</td>\n",
       "      <td>425000</td>\n",
       "      <td>50000</td>\n",
       "      <td>Diesel</td>\n",
       "      <td>Individual</td>\n",
       "      <td>Manual</td>\n",
       "      <td>First Owner</td>\n",
       "      <td>23.59</td>\n",
       "      <td>1364.0</td>\n",
       "      <td>67.06</td>\n",
       "      <td>5.0</td>\n",
       "    </tr>\n",
       "    <tr>\n",
       "      <th>8112</th>\n",
       "      <td>Ford Freestyle Titanium Plus Diesel BSIV</td>\n",
       "      <td>2018</td>\n",
       "      <td>746000</td>\n",
       "      <td>24000</td>\n",
       "      <td>Diesel</td>\n",
       "      <td>Individual</td>\n",
       "      <td>Manual</td>\n",
       "      <td>First Owner</td>\n",
       "      <td>24.40</td>\n",
       "      <td>1498.0</td>\n",
       "      <td>98.63</td>\n",
       "      <td>5.0</td>\n",
       "    </tr>\n",
       "    <tr>\n",
       "      <th>8113</th>\n",
       "      <td>Toyota Innova 2.5 GX (Diesel) 8 Seater BS IV</td>\n",
       "      <td>2010</td>\n",
       "      <td>425000</td>\n",
       "      <td>129000</td>\n",
       "      <td>Diesel</td>\n",
       "      <td>Individual</td>\n",
       "      <td>Manual</td>\n",
       "      <td>First Owner</td>\n",
       "      <td>12.80</td>\n",
       "      <td>2494.0</td>\n",
       "      <td>102</td>\n",
       "      <td>8.0</td>\n",
       "    </tr>\n",
       "    <tr>\n",
       "      <th>8114</th>\n",
       "      <td>Maruti Alto LXi</td>\n",
       "      <td>2011</td>\n",
       "      <td>200000</td>\n",
       "      <td>73000</td>\n",
       "      <td>Petrol</td>\n",
       "      <td>Individual</td>\n",
       "      <td>Manual</td>\n",
       "      <td>First Owner</td>\n",
       "      <td>19.70</td>\n",
       "      <td>796.0</td>\n",
       "      <td>46.3</td>\n",
       "      <td>5.0</td>\n",
       "    </tr>\n",
       "    <tr>\n",
       "      <th>8115</th>\n",
       "      <td>Maruti 800 AC</td>\n",
       "      <td>1997</td>\n",
       "      <td>40000</td>\n",
       "      <td>120000</td>\n",
       "      <td>Petrol</td>\n",
       "      <td>Individual</td>\n",
       "      <td>Manual</td>\n",
       "      <td>First Owner</td>\n",
       "      <td>16.10</td>\n",
       "      <td>796.0</td>\n",
       "      <td>37</td>\n",
       "      <td>4.0</td>\n",
       "    </tr>\n",
       "    <tr>\n",
       "      <th>8116</th>\n",
       "      <td>Maruti Alto K10 VXI Airbag</td>\n",
       "      <td>2017</td>\n",
       "      <td>340000</td>\n",
       "      <td>45000</td>\n",
       "      <td>Petrol</td>\n",
       "      <td>Individual</td>\n",
       "      <td>Manual</td>\n",
       "      <td>First Owner</td>\n",
       "      <td>23.95</td>\n",
       "      <td>998.0</td>\n",
       "      <td>67.1</td>\n",
       "      <td>5.0</td>\n",
       "    </tr>\n",
       "    <tr>\n",
       "      <th>8117</th>\n",
       "      <td>Maruti Swift Dzire VDI</td>\n",
       "      <td>2015</td>\n",
       "      <td>625000</td>\n",
       "      <td>50000</td>\n",
       "      <td>Diesel</td>\n",
       "      <td>Individual</td>\n",
       "      <td>Manual</td>\n",
       "      <td>First Owner</td>\n",
       "      <td>26.59</td>\n",
       "      <td>1248.0</td>\n",
       "      <td>74</td>\n",
       "      <td>5.0</td>\n",
       "    </tr>\n",
       "    <tr>\n",
       "      <th>8118</th>\n",
       "      <td>Hyundai i20 Magna</td>\n",
       "      <td>2013</td>\n",
       "      <td>380000</td>\n",
       "      <td>25000</td>\n",
       "      <td>Petrol</td>\n",
       "      <td>Individual</td>\n",
       "      <td>Manual</td>\n",
       "      <td>First Owner</td>\n",
       "      <td>18.50</td>\n",
       "      <td>1197.0</td>\n",
       "      <td>82.85</td>\n",
       "      <td>5.0</td>\n",
       "    </tr>\n",
       "    <tr>\n",
       "      <th>8119</th>\n",
       "      <td>Maruti Wagon R LXI Optional</td>\n",
       "      <td>2017</td>\n",
       "      <td>360000</td>\n",
       "      <td>80000</td>\n",
       "      <td>Petrol</td>\n",
       "      <td>Individual</td>\n",
       "      <td>Manual</td>\n",
       "      <td>First Owner</td>\n",
       "      <td>20.51</td>\n",
       "      <td>998.0</td>\n",
       "      <td>67.04</td>\n",
       "      <td>5.0</td>\n",
       "    </tr>\n",
       "    <tr>\n",
       "      <th>8120</th>\n",
       "      <td>Hyundai Santro Xing GLS</td>\n",
       "      <td>2008</td>\n",
       "      <td>120000</td>\n",
       "      <td>191000</td>\n",
       "      <td>Petrol</td>\n",
       "      <td>Individual</td>\n",
       "      <td>Manual</td>\n",
       "      <td>First Owner</td>\n",
       "      <td>17.92</td>\n",
       "      <td>1086.0</td>\n",
       "      <td>62.1</td>\n",
       "      <td>5.0</td>\n",
       "    </tr>\n",
       "    <tr>\n",
       "      <th>8121</th>\n",
       "      <td>Maruti Wagon R VXI BS IV with ABS</td>\n",
       "      <td>2013</td>\n",
       "      <td>260000</td>\n",
       "      <td>50000</td>\n",
       "      <td>Petrol</td>\n",
       "      <td>Individual</td>\n",
       "      <td>Manual</td>\n",
       "      <td>Second Owner</td>\n",
       "      <td>18.90</td>\n",
       "      <td>998.0</td>\n",
       "      <td>67.1</td>\n",
       "      <td>5.0</td>\n",
       "    </tr>\n",
       "    <tr>\n",
       "      <th>8122</th>\n",
       "      <td>Hyundai i20 Magna 1.4 CRDi</td>\n",
       "      <td>2014</td>\n",
       "      <td>475000</td>\n",
       "      <td>80000</td>\n",
       "      <td>Diesel</td>\n",
       "      <td>Individual</td>\n",
       "      <td>Manual</td>\n",
       "      <td>Second Owner</td>\n",
       "      <td>22.54</td>\n",
       "      <td>1396.0</td>\n",
       "      <td>88.73</td>\n",
       "      <td>5.0</td>\n",
       "    </tr>\n",
       "    <tr>\n",
       "      <th>8123</th>\n",
       "      <td>Hyundai i20 Magna</td>\n",
       "      <td>2013</td>\n",
       "      <td>320000</td>\n",
       "      <td>110000</td>\n",
       "      <td>Petrol</td>\n",
       "      <td>Individual</td>\n",
       "      <td>Manual</td>\n",
       "      <td>First Owner</td>\n",
       "      <td>18.50</td>\n",
       "      <td>1197.0</td>\n",
       "      <td>82.85</td>\n",
       "      <td>5.0</td>\n",
       "    </tr>\n",
       "    <tr>\n",
       "      <th>8124</th>\n",
       "      <td>Hyundai Verna CRDi SX</td>\n",
       "      <td>2007</td>\n",
       "      <td>135000</td>\n",
       "      <td>119000</td>\n",
       "      <td>Diesel</td>\n",
       "      <td>Individual</td>\n",
       "      <td>Manual</td>\n",
       "      <td>Fourth &amp; Above Owner</td>\n",
       "      <td>16.80</td>\n",
       "      <td>1493.0</td>\n",
       "      <td>110</td>\n",
       "      <td>5.0</td>\n",
       "    </tr>\n",
       "    <tr>\n",
       "      <th>8125</th>\n",
       "      <td>Maruti Swift Dzire ZDi</td>\n",
       "      <td>2009</td>\n",
       "      <td>382000</td>\n",
       "      <td>120000</td>\n",
       "      <td>Diesel</td>\n",
       "      <td>Individual</td>\n",
       "      <td>Manual</td>\n",
       "      <td>First Owner</td>\n",
       "      <td>19.30</td>\n",
       "      <td>1248.0</td>\n",
       "      <td>73.9</td>\n",
       "      <td>5.0</td>\n",
       "    </tr>\n",
       "    <tr>\n",
       "      <th>8126</th>\n",
       "      <td>Tata Indigo CR4</td>\n",
       "      <td>2013</td>\n",
       "      <td>290000</td>\n",
       "      <td>25000</td>\n",
       "      <td>Diesel</td>\n",
       "      <td>Individual</td>\n",
       "      <td>Manual</td>\n",
       "      <td>First Owner</td>\n",
       "      <td>23.57</td>\n",
       "      <td>1396.0</td>\n",
       "      <td>70</td>\n",
       "      <td>5.0</td>\n",
       "    </tr>\n",
       "    <tr>\n",
       "      <th>8127</th>\n",
       "      <td>Tata Indigo CR4</td>\n",
       "      <td>2013</td>\n",
       "      <td>290000</td>\n",
       "      <td>25000</td>\n",
       "      <td>Diesel</td>\n",
       "      <td>Individual</td>\n",
       "      <td>Manual</td>\n",
       "      <td>First Owner</td>\n",
       "      <td>23.57</td>\n",
       "      <td>1396.0</td>\n",
       "      <td>70</td>\n",
       "      <td>5.0</td>\n",
       "    </tr>\n",
       "  </tbody>\n",
       "</table>\n",
       "</div>"
      ],
      "text/plain": [
       "                                              name  year  selling_price  \\\n",
       "8108                      Kia Seltos HTX Plus AT D  2019        1575000   \n",
       "8109      Ford Freestyle Titanium Plus Diesel BSIV  2018         750000   \n",
       "8110                            Maruti Celerio VXI  2017         425000   \n",
       "8111                    Toyota Etios Cross 1.4L GD  2014         425000   \n",
       "8112      Ford Freestyle Titanium Plus Diesel BSIV  2018         746000   \n",
       "8113  Toyota Innova 2.5 GX (Diesel) 8 Seater BS IV  2010         425000   \n",
       "8114                               Maruti Alto LXi  2011         200000   \n",
       "8115                                 Maruti 800 AC  1997          40000   \n",
       "8116                    Maruti Alto K10 VXI Airbag  2017         340000   \n",
       "8117                        Maruti Swift Dzire VDI  2015         625000   \n",
       "8118                             Hyundai i20 Magna  2013         380000   \n",
       "8119                   Maruti Wagon R LXI Optional  2017         360000   \n",
       "8120                       Hyundai Santro Xing GLS  2008         120000   \n",
       "8121             Maruti Wagon R VXI BS IV with ABS  2013         260000   \n",
       "8122                    Hyundai i20 Magna 1.4 CRDi  2014         475000   \n",
       "8123                             Hyundai i20 Magna  2013         320000   \n",
       "8124                         Hyundai Verna CRDi SX  2007         135000   \n",
       "8125                        Maruti Swift Dzire ZDi  2009         382000   \n",
       "8126                               Tata Indigo CR4  2013         290000   \n",
       "8127                               Tata Indigo CR4  2013         290000   \n",
       "\n",
       "      km_driven    fuel seller_type transmission                 owner  \\\n",
       "8108      20000  Diesel  Individual    Automatic           First Owner   \n",
       "8109      24000  Diesel  Individual       Manual           First Owner   \n",
       "8110      12000  Petrol  Individual       Manual           First Owner   \n",
       "8111      50000  Diesel  Individual       Manual           First Owner   \n",
       "8112      24000  Diesel  Individual       Manual           First Owner   \n",
       "8113     129000  Diesel  Individual       Manual           First Owner   \n",
       "8114      73000  Petrol  Individual       Manual           First Owner   \n",
       "8115     120000  Petrol  Individual       Manual           First Owner   \n",
       "8116      45000  Petrol  Individual       Manual           First Owner   \n",
       "8117      50000  Diesel  Individual       Manual           First Owner   \n",
       "8118      25000  Petrol  Individual       Manual           First Owner   \n",
       "8119      80000  Petrol  Individual       Manual           First Owner   \n",
       "8120     191000  Petrol  Individual       Manual           First Owner   \n",
       "8121      50000  Petrol  Individual       Manual          Second Owner   \n",
       "8122      80000  Diesel  Individual       Manual          Second Owner   \n",
       "8123     110000  Petrol  Individual       Manual           First Owner   \n",
       "8124     119000  Diesel  Individual       Manual  Fourth & Above Owner   \n",
       "8125     120000  Diesel  Individual       Manual           First Owner   \n",
       "8126      25000  Diesel  Individual       Manual           First Owner   \n",
       "8127      25000  Diesel  Individual       Manual           First Owner   \n",
       "\n",
       "      mileage(km/ltr/kg)  engine max_power  seats  \n",
       "8108               17.80  1493.0     113.4    5.0  \n",
       "8109               24.40  1498.0     98.63    5.0  \n",
       "8110               23.10   998.0     67.04    5.0  \n",
       "8111               23.59  1364.0     67.06    5.0  \n",
       "8112               24.40  1498.0     98.63    5.0  \n",
       "8113               12.80  2494.0       102    8.0  \n",
       "8114               19.70   796.0      46.3    5.0  \n",
       "8115               16.10   796.0        37    4.0  \n",
       "8116               23.95   998.0      67.1    5.0  \n",
       "8117               26.59  1248.0        74    5.0  \n",
       "8118               18.50  1197.0     82.85    5.0  \n",
       "8119               20.51   998.0     67.04    5.0  \n",
       "8120               17.92  1086.0      62.1    5.0  \n",
       "8121               18.90   998.0      67.1    5.0  \n",
       "8122               22.54  1396.0     88.73    5.0  \n",
       "8123               18.50  1197.0     82.85    5.0  \n",
       "8124               16.80  1493.0       110    5.0  \n",
       "8125               19.30  1248.0      73.9    5.0  \n",
       "8126               23.57  1396.0        70    5.0  \n",
       "8127               23.57  1396.0        70    5.0  "
      ]
     },
     "execution_count": 2,
     "metadata": {},
     "output_type": "execute_result"
    }
   ],
   "source": [
    "df.tail(20)"
   ]
  },
  {
   "cell_type": "code",
   "execution_count": 3,
   "id": "bb4b51ff",
   "metadata": {},
   "outputs": [
    {
     "name": "stdout",
     "output_type": "stream",
     "text": [
      "<class 'pandas.core.frame.DataFrame'>\n",
      "RangeIndex: 8128 entries, 0 to 8127\n",
      "Data columns (total 12 columns):\n",
      " #   Column              Non-Null Count  Dtype  \n",
      "---  ------              --------------  -----  \n",
      " 0   name                8128 non-null   object \n",
      " 1   year                8128 non-null   int64  \n",
      " 2   selling_price       8128 non-null   int64  \n",
      " 3   km_driven           8128 non-null   int64  \n",
      " 4   fuel                8128 non-null   object \n",
      " 5   seller_type         8128 non-null   object \n",
      " 6   transmission        8128 non-null   object \n",
      " 7   owner               8128 non-null   object \n",
      " 8   mileage(km/ltr/kg)  7907 non-null   float64\n",
      " 9   engine              7907 non-null   float64\n",
      " 10  max_power           7913 non-null   object \n",
      " 11  seats               7907 non-null   float64\n",
      "dtypes: float64(3), int64(3), object(6)\n",
      "memory usage: 762.1+ KB\n"
     ]
    }
   ],
   "source": [
    "df.info()"
   ]
  },
  {
   "cell_type": "code",
   "execution_count": 4,
   "id": "d8b8b8ba",
   "metadata": {},
   "outputs": [
    {
     "data": {
      "application/vnd.microsoft.datawrangler.viewer.v0+json": {
       "columns": [
        {
         "name": "index",
         "rawType": "object",
         "type": "string"
        },
        {
         "name": "year",
         "rawType": "float64",
         "type": "float"
        },
        {
         "name": "selling_price",
         "rawType": "float64",
         "type": "float"
        },
        {
         "name": "km_driven",
         "rawType": "float64",
         "type": "float"
        },
        {
         "name": "mileage(km/ltr/kg)",
         "rawType": "float64",
         "type": "float"
        },
        {
         "name": "engine",
         "rawType": "float64",
         "type": "float"
        },
        {
         "name": "seats",
         "rawType": "float64",
         "type": "float"
        }
       ],
       "ref": "1e22b17b-4482-4716-b123-acb60e32fa14",
       "rows": [
        [
         "count",
         "8128.0",
         "8128.0",
         "8128.0",
         "7907.0",
         "7907.0",
         "7907.0"
        ],
        [
         "mean",
         "2013.8040108267717",
         "638271.8077017716",
         "69819.51082677166",
         "19.41878335651954",
         "1458.625015808777",
         "5.41671936259011"
        ],
        [
         "std",
         "4.044248753683614",
         "806253.4035082331",
         "56550.554958218585",
         "4.0371450567755565",
         "503.9163029923002",
         "0.95958752023394"
        ],
        [
         "min",
         "1983.0",
         "29999.0",
         "1.0",
         "0.0",
         "624.0",
         "2.0"
        ],
        [
         "25%",
         "2011.0",
         "254999.0",
         "35000.0",
         "16.78",
         "1197.0",
         "5.0"
        ],
        [
         "50%",
         "2015.0",
         "450000.0",
         "60000.0",
         "19.3",
         "1248.0",
         "5.0"
        ],
        [
         "75%",
         "2017.0",
         "675000.0",
         "98000.0",
         "22.32",
         "1582.0",
         "5.0"
        ],
        [
         "max",
         "2020.0",
         "10000000.0",
         "2360457.0",
         "42.0",
         "3604.0",
         "14.0"
        ]
       ],
       "shape": {
        "columns": 6,
        "rows": 8
       }
      },
      "text/html": [
       "<div>\n",
       "<style scoped>\n",
       "    .dataframe tbody tr th:only-of-type {\n",
       "        vertical-align: middle;\n",
       "    }\n",
       "\n",
       "    .dataframe tbody tr th {\n",
       "        vertical-align: top;\n",
       "    }\n",
       "\n",
       "    .dataframe thead th {\n",
       "        text-align: right;\n",
       "    }\n",
       "</style>\n",
       "<table border=\"1\" class=\"dataframe\">\n",
       "  <thead>\n",
       "    <tr style=\"text-align: right;\">\n",
       "      <th></th>\n",
       "      <th>year</th>\n",
       "      <th>selling_price</th>\n",
       "      <th>km_driven</th>\n",
       "      <th>mileage(km/ltr/kg)</th>\n",
       "      <th>engine</th>\n",
       "      <th>seats</th>\n",
       "    </tr>\n",
       "  </thead>\n",
       "  <tbody>\n",
       "    <tr>\n",
       "      <th>count</th>\n",
       "      <td>8128.000000</td>\n",
       "      <td>8.128000e+03</td>\n",
       "      <td>8.128000e+03</td>\n",
       "      <td>7907.000000</td>\n",
       "      <td>7907.000000</td>\n",
       "      <td>7907.000000</td>\n",
       "    </tr>\n",
       "    <tr>\n",
       "      <th>mean</th>\n",
       "      <td>2013.804011</td>\n",
       "      <td>6.382718e+05</td>\n",
       "      <td>6.981951e+04</td>\n",
       "      <td>19.418783</td>\n",
       "      <td>1458.625016</td>\n",
       "      <td>5.416719</td>\n",
       "    </tr>\n",
       "    <tr>\n",
       "      <th>std</th>\n",
       "      <td>4.044249</td>\n",
       "      <td>8.062534e+05</td>\n",
       "      <td>5.655055e+04</td>\n",
       "      <td>4.037145</td>\n",
       "      <td>503.916303</td>\n",
       "      <td>0.959588</td>\n",
       "    </tr>\n",
       "    <tr>\n",
       "      <th>min</th>\n",
       "      <td>1983.000000</td>\n",
       "      <td>2.999900e+04</td>\n",
       "      <td>1.000000e+00</td>\n",
       "      <td>0.000000</td>\n",
       "      <td>624.000000</td>\n",
       "      <td>2.000000</td>\n",
       "    </tr>\n",
       "    <tr>\n",
       "      <th>25%</th>\n",
       "      <td>2011.000000</td>\n",
       "      <td>2.549990e+05</td>\n",
       "      <td>3.500000e+04</td>\n",
       "      <td>16.780000</td>\n",
       "      <td>1197.000000</td>\n",
       "      <td>5.000000</td>\n",
       "    </tr>\n",
       "    <tr>\n",
       "      <th>50%</th>\n",
       "      <td>2015.000000</td>\n",
       "      <td>4.500000e+05</td>\n",
       "      <td>6.000000e+04</td>\n",
       "      <td>19.300000</td>\n",
       "      <td>1248.000000</td>\n",
       "      <td>5.000000</td>\n",
       "    </tr>\n",
       "    <tr>\n",
       "      <th>75%</th>\n",
       "      <td>2017.000000</td>\n",
       "      <td>6.750000e+05</td>\n",
       "      <td>9.800000e+04</td>\n",
       "      <td>22.320000</td>\n",
       "      <td>1582.000000</td>\n",
       "      <td>5.000000</td>\n",
       "    </tr>\n",
       "    <tr>\n",
       "      <th>max</th>\n",
       "      <td>2020.000000</td>\n",
       "      <td>1.000000e+07</td>\n",
       "      <td>2.360457e+06</td>\n",
       "      <td>42.000000</td>\n",
       "      <td>3604.000000</td>\n",
       "      <td>14.000000</td>\n",
       "    </tr>\n",
       "  </tbody>\n",
       "</table>\n",
       "</div>"
      ],
      "text/plain": [
       "              year  selling_price     km_driven  mileage(km/ltr/kg)  \\\n",
       "count  8128.000000   8.128000e+03  8.128000e+03         7907.000000   \n",
       "mean   2013.804011   6.382718e+05  6.981951e+04           19.418783   \n",
       "std       4.044249   8.062534e+05  5.655055e+04            4.037145   \n",
       "min    1983.000000   2.999900e+04  1.000000e+00            0.000000   \n",
       "25%    2011.000000   2.549990e+05  3.500000e+04           16.780000   \n",
       "50%    2015.000000   4.500000e+05  6.000000e+04           19.300000   \n",
       "75%    2017.000000   6.750000e+05  9.800000e+04           22.320000   \n",
       "max    2020.000000   1.000000e+07  2.360457e+06           42.000000   \n",
       "\n",
       "            engine        seats  \n",
       "count  7907.000000  7907.000000  \n",
       "mean   1458.625016     5.416719  \n",
       "std     503.916303     0.959588  \n",
       "min     624.000000     2.000000  \n",
       "25%    1197.000000     5.000000  \n",
       "50%    1248.000000     5.000000  \n",
       "75%    1582.000000     5.000000  \n",
       "max    3604.000000    14.000000  "
      ]
     },
     "execution_count": 4,
     "metadata": {},
     "output_type": "execute_result"
    }
   ],
   "source": [
    "df.describe()"
   ]
  },
  {
   "cell_type": "code",
   "execution_count": 5,
   "id": "642750e3",
   "metadata": {},
   "outputs": [
    {
     "data": {
      "text/plain": [
       "(8128, 12)"
      ]
     },
     "execution_count": 5,
     "metadata": {},
     "output_type": "execute_result"
    }
   ],
   "source": [
    "df.shape"
   ]
  },
  {
   "cell_type": "markdown",
   "id": "c89d075f",
   "metadata": {},
   "source": [
    "#### Columns explanation\n",
    "- The whole dataset shows the data of used cars to be sold.It describes the car make, model year of manufacture, engine and other technical information that is important for a potential buyer.\n",
    "- a)name:The brand, model, and variant of the car. Example: \"Maruti Swift Dzire VDI\" is a specific model from Maruti Suzuki.\n",
    "- b)year: shows the year of manufacture of each vehicle\n",
    "- c)selling price: indicates the price set for the car to be sold by the current owner\n",
    "- d)km_driven: The total distance the car has traveled in kilometers since it was first purchased.\n",
    "- e)fuel: shows the fuel type of the vehicle be it, diesel, petrol or LPG\n",
    "- f)seller_type: shows Whether the seller is an individual, dealer, or other type.\n",
    "- g)transmission: shows the transmission type of the vehicle, which could be manual or automatic\n",
    "- h)owner: shows details of the current owner of the vehicle that is selling the vehicle\n",
    "- i)mileage: gives an indication of the total distance teh car has travelled since it was manufactured\n",
    "- j)engine: shows the engine capacity in cubic centimeters (cc)\n",
    "- k)max_power: The maximum power output of the engine (in brake horsepower or a similar unit)\n",
    "- l)seats:The seating capacity of the car"
   ]
  },
  {
   "cell_type": "code",
   "execution_count": 6,
   "id": "4f9a1338",
   "metadata": {},
   "outputs": [
    {
     "name": "stdout",
     "output_type": "stream",
     "text": [
      "Missing values in each column:\n",
      "\n",
      "name                    0\n",
      "year                    0\n",
      "selling_price           0\n",
      "km_driven               0\n",
      "fuel                    0\n",
      "seller_type             0\n",
      "transmission            0\n",
      "owner                   0\n",
      "mileage(km/ltr/kg)    221\n",
      "engine                221\n",
      "max_power             215\n",
      "seats                 221\n",
      "dtype: int64\n"
     ]
    }
   ],
   "source": [
    "# check for missing values\n",
    "\n",
    "# show the number of missing values in each column\n",
    "print(\"Missing values in each column:\\n\")\n",
    "print(df.isnull().sum())"
   ]
  },
  {
   "cell_type": "code",
   "execution_count": 7,
   "id": "4e6adb59",
   "metadata": {},
   "outputs": [
    {
     "name": "stdout",
     "output_type": "stream",
     "text": [
      "name                  0.000000\n",
      "year                  0.000000\n",
      "selling_price         0.000000\n",
      "km_driven             0.000000\n",
      "fuel                  0.000000\n",
      "seller_type           0.000000\n",
      "transmission          0.000000\n",
      "owner                 0.000000\n",
      "mileage(km/ltr/kg)    2.718996\n",
      "engine                2.718996\n",
      "max_power             2.645177\n",
      "seats                 2.718996\n",
      "dtype: float64\n"
     ]
    }
   ],
   "source": [
    "# Percentage of missing values per column\n",
    "missing_percentage = (df.isnull().sum() / len(df)) * 100\n",
    "\n",
    "print(missing_percentage)"
   ]
  },
  {
   "cell_type": "code",
   "execution_count": 8,
   "id": "6522841e",
   "metadata": {},
   "outputs": [
    {
     "name": "stdout",
     "output_type": "stream",
     "text": [
      "(8128, 12)\n"
     ]
    }
   ],
   "source": [
    "# drop rows where selling price is missing\n",
    "df = df.dropna(subset=['selling_price'])\n",
    "\n",
    "# Confirm the change\n",
    "print(df.shape)"
   ]
  },
  {
   "cell_type": "markdown",
   "id": "41b7f3b4",
   "metadata": {},
   "source": [
    "#### Training a model with missing values\n",
    "- The target variable is the label for the training model's predictions. A label with missing values leads to:\n",
    "- a)For supervised learning the algorithm is fed both with features and the output so that it can learn the relationship between them. If the target is missing the model can't make correct predictions.\n",
    "- b)Missing values break the learning process thus the regression model won't be able to compute the error between the actual and prediction if the actual value is missing.\n",
    "- c)keeping rows with missing values adds noise and bias thus the model will be left to guess without supervision leading to inaccurate learning."
   ]
  },
  {
   "cell_type": "code",
   "execution_count": 9,
   "id": "d6e7f0fb",
   "metadata": {},
   "outputs": [],
   "source": [
    "# filling missing values in mileage column\n",
    "df[\"mileage(km/ltr/kg)\"]=df[\"mileage(km/ltr/kg)\"].fillna(df[\"mileage(km/ltr/kg)\"].mean())"
   ]
  },
  {
   "cell_type": "code",
   "execution_count": 10,
   "id": "c40a7c1a",
   "metadata": {},
   "outputs": [],
   "source": [
    "# filling missing values in engine column\n",
    "df[\"engine\"]=df[\"engine\"].fillna(df[\"engine\"].mean())"
   ]
  },
  {
   "cell_type": "code",
   "execution_count": 11,
   "id": "e54333d4",
   "metadata": {},
   "outputs": [
    {
     "name": "stdout",
     "output_type": "stream",
     "text": [
      "float64\n",
      "0     74.00\n",
      "1    103.52\n",
      "2     78.00\n",
      "3     90.00\n",
      "4     88.20\n",
      "Name: max_power, dtype: float64\n"
     ]
    }
   ],
   "source": [
    "# converting 'max_power' column to numeric\n",
    "# Remove any non-numeric characters (like 'bhp', spaces, etc.)\n",
    "df['max_power'] = df['max_power'].str.replace(r'[^0-9.]', '', regex=True)\n",
    "\n",
    "# Convert to float\n",
    "df['max_power'] = pd.to_numeric(df['max_power'], errors='coerce')\n",
    "\n",
    "# Check data type after conversion\n",
    "print(df['max_power'].dtype)\n",
    "\n",
    "# Preview column to confirm changes\n",
    "print(df['max_power'].head())"
   ]
  },
  {
   "cell_type": "code",
   "execution_count": 12,
   "id": "32554f5c",
   "metadata": {},
   "outputs": [],
   "source": [
    "# filling missing values in max_power column\n",
    "df[\"max_power\"]=df[\"max_power\"].fillna(df[\"max_power\"].mean())"
   ]
  },
  {
   "cell_type": "code",
   "execution_count": 13,
   "id": "8d5222b0",
   "metadata": {},
   "outputs": [],
   "source": [
    "# filling missing values in seats column\n",
    "df[\"seats\"]=df[\"seats\"].fillna(df[\"seats\"].mean())"
   ]
  },
  {
   "cell_type": "code",
   "execution_count": 14,
   "id": "62091bcf",
   "metadata": {},
   "outputs": [
    {
     "name": "stdout",
     "output_type": "stream",
     "text": [
      "Missing values after filling:\n",
      "\n",
      "name                  0\n",
      "year                  0\n",
      "selling_price         0\n",
      "km_driven             0\n",
      "fuel                  0\n",
      "seller_type           0\n",
      "transmission          0\n",
      "owner                 0\n",
      "mileage(km/ltr/kg)    0\n",
      "engine                0\n",
      "max_power             0\n",
      "seats                 0\n",
      "dtype: int64\n"
     ]
    }
   ],
   "source": [
    "# confirm missing values after filling\n",
    "print(\"Missing values after filling:\\n\")\n",
    "print(df.isnull().sum())"
   ]
  },
  {
   "cell_type": "markdown",
   "id": "795630a1",
   "metadata": {},
   "source": [
    "- Imputation is better than dropping rows since; dropping rows reduces the dataset size leaving you with less data to train on. This can lead to biasness in training your model."
   ]
  },
  {
   "cell_type": "code",
   "execution_count": 15,
   "id": "c360a2bb",
   "metadata": {},
   "outputs": [
    {
     "name": "stdout",
     "output_type": "stream",
     "text": [
      "Remaining rows after removing duplicates: 6926\n"
     ]
    }
   ],
   "source": [
    "# removing duplicate rows\n",
    "df = df.drop_duplicates()\n",
    "\n",
    "# Check remaining rows\n",
    "print(f\"Remaining rows after removing duplicates: {len(df)}\")"
   ]
  },
  {
   "cell_type": "markdown",
   "id": "e91d4778",
   "metadata": {},
   "source": [
    "#Duplicate rows can negatively affect model training by causing the model to overfit(cram data instead of learning from it)\n",
    "#The results become biase and reduce the model’s ability to generalize to new, unseen data. \n",
    "#Removing duplicates ensures that each data point contributes equally to the learning process."
   ]
  },
  {
   "cell_type": "code",
   "execution_count": 16,
   "id": "9e9630e8",
   "metadata": {},
   "outputs": [],
   "source": [
    "# converting the year column to the car age\n",
    "from datetime import datetime\n",
    "current_year = datetime.now().year\n",
    "df[\"car_age\"] = current_year - df[\"year\"]"
   ]
  },
  {
   "cell_type": "code",
   "execution_count": null,
   "id": "3e46942d",
   "metadata": {},
   "outputs": [
    {
     "name": "stdout",
     "output_type": "stream",
     "text": [
      "Unique values in 'fuel': ['Diesel' 'Petrol' 'LPG' 'CNG']\n"
     ]
    }
   ],
   "source": [
    "# checking for unique values in fuel type column\n",
    "print(df[\"fuel\"].unique())"
   ]
  },
  {
   "cell_type": "markdown",
   "id": "d42f0832",
   "metadata": {},
   "source": [
    "#### Importance of knowing values in a categorical column before encoding\n",
    "- Encoding methods assign numbers to each category, if some categories have misssing values the model wont know how to handle it and it will lead to errors."
   ]
  },
  {
   "cell_type": "code",
   "execution_count": 18,
   "id": "5bcb10df",
   "metadata": {},
   "outputs": [
    {
     "name": "stdout",
     "output_type": "stream",
     "text": [
      "Unique values in 'transmission': ['Manual' 'Automatic']\n"
     ]
    }
   ],
   "source": [
    "# replace inconsistent values in transmission column\n",
    "print(\"Unique values in 'transmission':\", df['transmission'].unique())\n",
    "# there are no inconsistent values"
   ]
  },
  {
   "cell_type": "code",
   "execution_count": 19,
   "id": "4892055f",
   "metadata": {},
   "outputs": [
    {
     "data": {
      "image/png": "[encoded data removed]",
      "text/plain": [
       "<Figure size 800x500 with 1 Axes>"
      ]
     },
     "metadata": {},
     "output_type": "display_data"
    }
   ],
   "source": [
    "import matplotlib.pyplot as plt\n",
    "import seaborn as sns\n",
    "\n",
    "# Create the boxplot\n",
    "plt.figure(figsize=(8, 5))\n",
    "sns.boxplot(x=df['selling_price'])\n",
    "plt.title('Boxplot of Selling Price')\n",
    "plt.xlabel('Selling Price')\n",
    "plt.show()"
   ]
  },
  {
   "cell_type": "markdown",
   "id": "8ddef323",
   "metadata": {},
   "source": [
    "#### Effect of outliers on model accuracy\n",
    "- Outliers have large errors that pull the regression line away from the majority of data making predictions less accurate.\n",
    "- Outliers represent rare cases so the model might fail to generalize the data."
   ]
  },
  {
   "cell_type": "code",
   "execution_count": 20,
   "id": "f2527924",
   "metadata": {},
   "outputs": [
    {
     "name": "stdout",
     "output_type": "stream",
     "text": [
      "29999 4600000\n"
     ]
    }
   ],
   "source": [
    "# remove cars priced below 10,000 or above 5,000,000\n",
    "df = df[(df['selling_price'] >= 10000) & (df['selling_price'] <= 5000000)]\n",
    "\n",
    "# Check the new range\n",
    "print(df['selling_price'].min(), df['selling_price'].max())"
   ]
  },
  {
   "cell_type": "markdown",
   "id": "811ad554",
   "metadata": {},
   "source": [
    "#### How setting price limits improves model performance\n",
    "- Removes extreme outliers.\n",
    "- Prevents skewed predictions.\n",
    "- Improves training efficiency.\n",
    "- Reduces error metrics."
   ]
  },
  {
   "cell_type": "code",
   "execution_count": 21,
   "id": "8ff07b59",
   "metadata": {},
   "outputs": [
    {
     "name": "stdout",
     "output_type": "stream",
     "text": [
      "Index(['name', 'year', 'selling_price', 'km_driven', 'fuel', 'seller_type',\n",
      "       'transmission', 'owner', 'mileage(km/ltr/kg)', 'engine', 'max_power',\n",
      "       'seats', 'car_age'],\n",
      "      dtype='object')\n"
     ]
    }
   ],
   "source": [
    "# Standardize column names: lowercase and underscores instead of spaces\n",
    "df.columns = df.columns.str.lower().str.replace(' ', '_')\n",
    "\n",
    "# Preview to confirm changes\n",
    "print(df.columns)"
   ]
  },
  {
   "cell_type": "code",
   "execution_count": 22,
   "id": "f5f4d25e",
   "metadata": {},
   "outputs": [
    {
     "name": "stdout",
     "output_type": "stream",
     "text": [
      "Skipped name (categorical).\n",
      "Skipped fuel (categorical).\n",
      "Skipped seller_type (categorical).\n",
      "Skipped transmission (categorical).\n",
      "Skipped owner (categorical).\n",
      "name                   object\n",
      "year                    int64\n",
      "selling_price           int64\n",
      "km_driven               int64\n",
      "fuel                   object\n",
      "seller_type            object\n",
      "transmission           object\n",
      "owner                  object\n",
      "mileage(km/ltr/kg)    float64\n",
      "engine                float64\n",
      "max_power             float64\n",
      "seats                 float64\n",
      "car_age                 int64\n",
      "dtype: object\n"
     ]
    }
   ],
   "source": [
    "# Identify columns that should be numeric but are stored as object (string)\n",
    "numeric_str_cols = df.select_dtypes(include=\"object\").columns\n",
    "\n",
    "for col in numeric_str_cols:\n",
    "    try:\n",
    "        # Try converting column to numeric\n",
    "        df[col] = pd.to_numeric(df[col], errors=\"raise\")\n",
    "        print(f\"Converted {col} to numeric.\")\n",
    "    except ValueError:\n",
    "        # If conversion fails, it's likely a categorical column\n",
    "        print(f\"Skipped {col} (categorical).\")\n",
    "\n",
    "# Check final column types\n",
    "print(df.dtypes)"
   ]
  },
  {
   "cell_type": "code",
   "execution_count": 23,
   "id": "d9fc989b",
   "metadata": {},
   "outputs": [],
   "source": [
    "# Create a new column for “price per kilometer” by dividing the selling price by the mileage\n",
    "df[\"price_per_km\"] = df[\"selling_price\"]/df[\"mileage(km/ltr/kg)\"]"
   ]
  },
  {
   "cell_type": "code",
   "execution_count": 24,
   "id": "a2f88241",
   "metadata": {},
   "outputs": [
    {
     "data": {
      "application/vnd.microsoft.datawrangler.viewer.v0+json": {
       "columns": [
        {
         "name": "index",
         "rawType": "int64",
         "type": "integer"
        },
        {
         "name": "name",
         "rawType": "object",
         "type": "string"
        },
        {
         "name": "year",
         "rawType": "int64",
         "type": "integer"
        },
        {
         "name": "selling_price",
         "rawType": "int64",
         "type": "integer"
        },
        {
         "name": "km_driven",
         "rawType": "int64",
         "type": "integer"
        },
        {
         "name": "fuel",
         "rawType": "object",
         "type": "string"
        },
        {
         "name": "seller_type",
         "rawType": "object",
         "type": "string"
        },
        {
         "name": "transmission",
         "rawType": "object",
         "type": "string"
        },
        {
         "name": "owner",
         "rawType": "object",
         "type": "string"
        },
        {
         "name": "mileage(km/ltr/kg)",
         "rawType": "float64",
         "type": "float"
        },
        {
         "name": "engine",
         "rawType": "float64",
         "type": "float"
        },
        {
         "name": "max_power",
         "rawType": "float64",
         "type": "float"
        },
        {
         "name": "seats",
         "rawType": "float64",
         "type": "float"
        },
        {
         "name": "car_age",
         "rawType": "int64",
         "type": "integer"
        },
        {
         "name": "price_per_km",
         "rawType": "float64",
         "type": "float"
        }
       ],
       "ref": "8f2c367b-5e9f-4fd0-b687-f90fb54dd71b",
       "rows": [
        [
         "0",
         "Maruti Swift Dzire VDI",
         "2014",
         "450000",
         "145500",
         "Diesel",
         "Individual",
         "Manual",
         "First Owner",
         "23.4",
         "1248.0",
         "74.0",
         "5.0",
         "11",
         "19230.76923076923"
        ],
        [
         "1",
         "Skoda Rapid 1.5 TDI Ambition",
         "2014",
         "370000",
         "120000",
         "Diesel",
         "Individual",
         "Manual",
         "Second Owner",
         "21.14",
         "1498.0",
         "103.52",
         "5.0",
         "11",
         "17502.365184484388"
        ],
        [
         "2",
         "Honda City 2017-2020 EXi",
         "2006",
         "158000",
         "140000",
         "Petrol",
         "Individual",
         "Manual",
         "Third Owner",
         "17.7",
         "1497.0",
         "78.0",
         "5.0",
         "19",
         "8926.553672316384"
        ],
        [
         "3",
         "Hyundai i20 Sportz Diesel",
         "2010",
         "225000",
         "127000",
         "Diesel",
         "Individual",
         "Manual",
         "First Owner",
         "23.0",
         "1396.0",
         "90.0",
         "5.0",
         "15",
         "9782.608695652174"
        ],
        [
         "4",
         "Maruti Swift VXI BSIII",
         "2007",
         "130000",
         "120000",
         "Petrol",
         "Individual",
         "Manual",
         "First Owner",
         "16.1",
         "1298.0",
         "88.2",
         "5.0",
         "18",
         "8074.534161490683"
        ]
       ],
       "shape": {
        "columns": 14,
        "rows": 5
       }
      },
      "text/html": [
       "<div>\n",
       "<style scoped>\n",
       "    .dataframe tbody tr th:only-of-type {\n",
       "        vertical-align: middle;\n",
       "    }\n",
       "\n",
       "    .dataframe tbody tr th {\n",
       "        vertical-align: top;\n",
       "    }\n",
       "\n",
       "    .dataframe thead th {\n",
       "        text-align: right;\n",
       "    }\n",
       "</style>\n",
       "<table border=\"1\" class=\"dataframe\">\n",
       "  <thead>\n",
       "    <tr style=\"text-align: right;\">\n",
       "      <th></th>\n",
       "      <th>name</th>\n",
       "      <th>year</th>\n",
       "      <th>selling_price</th>\n",
       "      <th>km_driven</th>\n",
       "      <th>fuel</th>\n",
       "      <th>seller_type</th>\n",
       "      <th>transmission</th>\n",
       "      <th>owner</th>\n",
       "      <th>mileage(km/ltr/kg)</th>\n",
       "      <th>engine</th>\n",
       "      <th>max_power</th>\n",
       "      <th>seats</th>\n",
       "      <th>car_age</th>\n",
       "      <th>price_per_km</th>\n",
       "    </tr>\n",
       "  </thead>\n",
       "  <tbody>\n",
       "    <tr>\n",
       "      <th>0</th>\n",
       "      <td>Maruti Swift Dzire VDI</td>\n",
       "      <td>2014</td>\n",
       "      <td>450000</td>\n",
       "      <td>145500</td>\n",
       "      <td>Diesel</td>\n",
       "      <td>Individual</td>\n",
       "      <td>Manual</td>\n",
       "      <td>First Owner</td>\n",
       "      <td>23.40</td>\n",
       "      <td>1248.0</td>\n",
       "      <td>74.00</td>\n",
       "      <td>5.0</td>\n",
       "      <td>11</td>\n",
       "      <td>19230.769231</td>\n",
       "    </tr>\n",
       "    <tr>\n",
       "      <th>1</th>\n",
       "      <td>Skoda Rapid 1.5 TDI Ambition</td>\n",
       "      <td>2014</td>\n",
       "      <td>370000</td>\n",
       "      <td>120000</td>\n",
       "      <td>Diesel</td>\n",
       "      <td>Individual</td>\n",
       "      <td>Manual</td>\n",
       "      <td>Second Owner</td>\n",
       "      <td>21.14</td>\n",
       "      <td>1498.0</td>\n",
       "      <td>103.52</td>\n",
       "      <td>5.0</td>\n",
       "      <td>11</td>\n",
       "      <td>17502.365184</td>\n",
       "    </tr>\n",
       "    <tr>\n",
       "      <th>2</th>\n",
       "      <td>Honda City 2017-2020 EXi</td>\n",
       "      <td>2006</td>\n",
       "      <td>158000</td>\n",
       "      <td>140000</td>\n",
       "      <td>Petrol</td>\n",
       "      <td>Individual</td>\n",
       "      <td>Manual</td>\n",
       "      <td>Third Owner</td>\n",
       "      <td>17.70</td>\n",
       "      <td>1497.0</td>\n",
       "      <td>78.00</td>\n",
       "      <td>5.0</td>\n",
       "      <td>19</td>\n",
       "      <td>8926.553672</td>\n",
       "    </tr>\n",
       "    <tr>\n",
       "      <th>3</th>\n",
       "      <td>Hyundai i20 Sportz Diesel</td>\n",
       "      <td>2010</td>\n",
       "      <td>225000</td>\n",
       "      <td>127000</td>\n",
       "      <td>Diesel</td>\n",
       "      <td>Individual</td>\n",
       "      <td>Manual</td>\n",
       "      <td>First Owner</td>\n",
       "      <td>23.00</td>\n",
       "      <td>1396.0</td>\n",
       "      <td>90.00</td>\n",
       "      <td>5.0</td>\n",
       "      <td>15</td>\n",
       "      <td>9782.608696</td>\n",
       "    </tr>\n",
       "    <tr>\n",
       "      <th>4</th>\n",
       "      <td>Maruti Swift VXI BSIII</td>\n",
       "      <td>2007</td>\n",
       "      <td>130000</td>\n",
       "      <td>120000</td>\n",
       "      <td>Petrol</td>\n",
       "      <td>Individual</td>\n",
       "      <td>Manual</td>\n",
       "      <td>First Owner</td>\n",
       "      <td>16.10</td>\n",
       "      <td>1298.0</td>\n",
       "      <td>88.20</td>\n",
       "      <td>5.0</td>\n",
       "      <td>18</td>\n",
       "      <td>8074.534161</td>\n",
       "    </tr>\n",
       "  </tbody>\n",
       "</table>\n",
       "</div>"
      ],
      "text/plain": [
       "                           name  year  selling_price  km_driven    fuel  \\\n",
       "0        Maruti Swift Dzire VDI  2014         450000     145500  Diesel   \n",
       "1  Skoda Rapid 1.5 TDI Ambition  2014         370000     120000  Diesel   \n",
       "2      Honda City 2017-2020 EXi  2006         158000     140000  Petrol   \n",
       "3     Hyundai i20 Sportz Diesel  2010         225000     127000  Diesel   \n",
       "4        Maruti Swift VXI BSIII  2007         130000     120000  Petrol   \n",
       "\n",
       "  seller_type transmission         owner  mileage(km/ltr/kg)  engine  \\\n",
       "0  Individual       Manual   First Owner               23.40  1248.0   \n",
       "1  Individual       Manual  Second Owner               21.14  1498.0   \n",
       "2  Individual       Manual   Third Owner               17.70  1497.0   \n",
       "3  Individual       Manual   First Owner               23.00  1396.0   \n",
       "4  Individual       Manual   First Owner               16.10  1298.0   \n",
       "\n",
       "   max_power  seats  car_age  price_per_km  \n",
       "0      74.00    5.0       11  19230.769231  \n",
       "1     103.52    5.0       11  17502.365184  \n",
       "2      78.00    5.0       19   8926.553672  \n",
       "3      90.00    5.0       15   9782.608696  \n",
       "4      88.20    5.0       18   8074.534161  "
      ]
     },
     "execution_count": 24,
     "metadata": {},
     "output_type": "execute_result"
    }
   ],
   "source": [
    "# Reset the index after cleaning\n",
    "df.reset_index(drop=True, inplace=True)\n",
    "\n",
    "# Confirm\n",
    "df.head()"
   ]
  },
  {
   "cell_type": "code",
   "execution_count": 25,
   "id": "4f793b6b",
   "metadata": {},
   "outputs": [],
   "source": [
    "# Save the cleaned dataset to CSV\n",
    "df.to_csv(\"cleaned_cars.csv\", index=False)"
   ]
  },
  {
   "cell_type": "markdown",
   "id": "197351fb",
   "metadata": {},
   "source": [
    "#### EDA"
   ]
  },
  {
   "cell_type": "code",
   "execution_count": 26,
   "id": "c7142fd5",
   "metadata": {},
   "outputs": [
    {
     "name": "stdout",
     "output_type": "stream",
     "text": [
      "Average Selling Price: 501,378.18\n"
     ]
    }
   ],
   "source": [
    "# average selling price of cars\n",
    "average_price = df[\"selling_price\"].mean()\n",
    "print(f\"Average Selling Price: {average_price:,.2f}\")"
   ]
  },
  {
   "cell_type": "code",
   "execution_count": 27,
   "id": "ae4fda96",
   "metadata": {},
   "outputs": [
    {
     "name": "stdout",
     "output_type": "stream",
     "text": [
      "Most Common Fuel Type: Diesel\n"
     ]
    }
   ],
   "source": [
    "most_common_fuel = df[\"fuel\"].mode()[0]\n",
    "print(f\"Most Common Fuel Type: {most_common_fuel}\")"
   ]
  },
  {
   "cell_type": "code",
   "execution_count": 28,
   "id": "8d86dbe6",
   "metadata": {},
   "outputs": [
    {
     "data": {
      "image/png": "[encoded data removed]",
      "text/plain": [
       "<Figure size 640x480 with 1 Axes>"
      ]
     },
     "metadata": {},
     "output_type": "display_data"
    }
   ],
   "source": [
    "import matplotlib.pyplot as plt\n",
    "\n",
    "# Plot histogram\n",
    "plt.hist(df[\"selling_price\"], bins=30, color=\"skyblue\", edgecolor=\"black\")\n",
    "plt.xlabel(\"Selling Price\")\n",
    "plt.ylabel(\"Number of Cars\")\n",
    "plt.title(\"Distribution of Selling Prices\")\n",
    "plt.show()"
   ]
  },
  {
   "cell_type": "code",
   "execution_count": 29,
   "id": "cd921579",
   "metadata": {},
   "outputs": [
    {
     "data": {
      "image/png": "[encoded data removed]",
      "text/plain": [
       "<Figure size 800x500 with 1 Axes>"
      ]
     },
     "metadata": {},
     "output_type": "display_data"
    }
   ],
   "source": [
    "import matplotlib.pyplot as plt\n",
    "\n",
    "plt.figure(figsize=(8,5))\n",
    "plt.scatter(df[\"car_age\"], df[\"selling_price\"], alpha=0.5, color=\"teal\", edgecolors=\"w\")\n",
    "plt.xlabel(\"Car Age (Years)\")\n",
    "plt.ylabel(\"Selling Price\")\n",
    "plt.title(\"Relationship Between Car Age and Selling Price\")\n",
    "plt.show()"
   ]
  },
  {
   "cell_type": "code",
   "execution_count": 30,
   "id": "9fc909dc",
   "metadata": {},
   "outputs": [
    {
     "name": "stdout",
     "output_type": "stream",
     "text": [
      "fuel\n",
      "Diesel    620448.482224\n",
      "Petrol    363717.339629\n",
      "CNG       300499.946429\n",
      "LPG       200421.052632\n",
      "Name: selling_price, dtype: float64\n"
     ]
    }
   ],
   "source": [
    "avg_price_by_fuel = df.groupby(\"fuel\")[\"selling_price\"].mean().sort_values(ascending=False)\n",
    "\n",
    "print(avg_price_by_fuel)\n"
   ]
  },
  {
   "cell_type": "code",
   "execution_count": 31,
   "id": "3b3656f0",
   "metadata": {},
   "outputs": [
    {
     "data": {
      "image/png": "[encoded data removed]",
      "text/plain": [
       "<Figure size 800x500 with 1 Axes>"
      ]
     },
     "metadata": {},
     "output_type": "display_data"
    }
   ],
   "source": [
    "# Count cars per transmission type\n",
    "transmission_counts = df[\"transmission\"].value_counts()\n",
    "\n",
    "# Plot the bar chart\n",
    "plt.figure(figsize=(8,5))\n",
    "transmission_counts.plot(kind=\"bar\", color=\"skyblue\", edgecolor=\"black\")\n",
    "\n",
    "plt.title(\"Number of Cars per Transmission Type\")\n",
    "plt.xlabel(\"Transmission Type\")\n",
    "plt.ylabel(\"Number of Cars\")\n",
    "plt.xticks(rotation=45)\n",
    "plt.show()"
   ]
  },
  {
   "cell_type": "code",
   "execution_count": 32,
   "id": "7bcc8954",
   "metadata": {},
   "outputs": [
    {
     "name": "stdout",
     "output_type": "stream",
     "text": [
      "Car with the highest mileage:\n",
      "name                  Maruti Alto 800 CNG LXI Optional\n",
      "year                                              2019\n",
      "selling_price                                   330000\n",
      "km_driven                                        10000\n",
      "fuel                                               CNG\n",
      "seller_type                                 Individual\n",
      "transmission                                    Manual\n",
      "owner                                     Second Owner\n",
      "mileage(km/ltr/kg)                               33.44\n",
      "engine                                           796.0\n",
      "max_power                                         40.3\n",
      "seats                                              4.0\n",
      "car_age                                              6\n",
      "price_per_km                               9868.421053\n",
      "Name: 35, dtype: object\n"
     ]
    }
   ],
   "source": [
    "# Find the row with the highest mileage\n",
    "highest_mileage_car = df.loc[df[\"mileage(km/ltr/kg)\"].idxmax()]\n",
    "\n",
    "print(\"Car with the highest mileage:\")\n",
    "print(highest_mileage_car)"
   ]
  },
  {
   "cell_type": "code",
   "execution_count": 33,
   "id": "ca6af12c",
   "metadata": {},
   "outputs": [
    {
     "name": "stdout",
     "output_type": "stream",
     "text": [
      "Correlation between mileage and selling price: -0.12069849273188767\n"
     ]
    }
   ],
   "source": [
    "correlation = df[\"mileage(km/ltr/kg)\"].corr(df[\"selling_price\"])\n",
    "print(\"Correlation between mileage and selling price:\", correlation)"
   ]
  },
  {
   "cell_type": "markdown",
   "id": "6a3e6650",
   "metadata": {},
   "source": [
    "#### Explanation\n",
    "- The relationship is negative so as mileage increases the selling price decreases.\n",
    "- The value is very close to 0 so the relationship is weak.\n",
    "- Mileage alone does not strongly explain the selling price in the dataset."
   ]
  },
  {
   "cell_type": "code",
   "execution_count": 34,
   "id": "00825536",
   "metadata": {},
   "outputs": [
    {
     "data": {
      "image/png": "[encoded data removed]",
      "text/plain": [
       "<Figure size 1000x600 with 2 Axes>"
      ]
     },
     "metadata": {},
     "output_type": "display_data"
    }
   ],
   "source": [
    "import seaborn as sns\n",
    "\n",
    "# Calculate correlations for numeric columns only\n",
    "corr_matrix = df.corr(numeric_only=True)\n",
    "\n",
    "# Plot heatmap\n",
    "plt.figure(figsize=(10, 6))\n",
    "sns.heatmap(corr_matrix, annot=True, cmap=\"coolwarm\", fmt=\".2f\")\n",
    "plt.title(\"Correlation Heatmap of Numeric Columns\")\n",
    "plt.show()"
   ]
  },
  {
   "cell_type": "code",
   "execution_count": 35,
   "id": "babf18db",
   "metadata": {},
   "outputs": [
    {
     "name": "stdout",
     "output_type": "stream",
     "text": [
      "transmission\n",
      "Automatic    1.143215e+06\n",
      "Manual       4.442991e+05\n",
      "Name: selling_price, dtype: float64\n"
     ]
    }
   ],
   "source": [
    "# Group by transmission type and get the average selling price\n",
    "avg_price_by_transmission = df.groupby(\"transmission\")[\"selling_price\"].mean()\n",
    "\n",
    "print(avg_price_by_transmission)"
   ]
  },
  {
   "cell_type": "markdown",
   "id": "7b0c835f",
   "metadata": {},
   "source": [
    "#### Explanation\n",
    "- On average, automatic cars are significantly more expensive than manual cars. The reasoning for this could be:\n",
    "- Automatics may be newer models or have more premium features.\n",
    "- They could be more common in higher-end brands or luxury categories.\n",
    "- Manual cars might be older or more budget-friendly models, lowering their price."
   ]
  },
  {
   "cell_type": "code",
   "execution_count": 36,
   "id": "3a779213",
   "metadata": {},
   "outputs": [
    {
     "data": {
      "image/png": "[encoded data removed]",
      "text/plain": [
       "<Figure size 1000x600 with 1 Axes>"
      ]
     },
     "metadata": {},
     "output_type": "display_data"
    }
   ],
   "source": [
    "# Calculate average selling price per year\n",
    "avg_price_per_year = df.groupby(\"year\")[\"selling_price\"].mean()\n",
    "\n",
    "# Plot the trend\n",
    "plt.figure(figsize=(10, 6))\n",
    "plt.plot(avg_price_per_year.index, avg_price_per_year.values, marker='o', linestyle='-', color='b')\n",
    "\n",
    "# Labels and title\n",
    "plt.title(\"Trend of Average Selling Prices Over the Years\", fontsize=14)\n",
    "plt.xlabel(\"Year of Manufacture\", fontsize=12)\n",
    "plt.ylabel(\"Average Selling Price\", fontsize=12)\n",
    "plt.grid(True)\n",
    "plt.show()"
   ]
  },
  {
   "cell_type": "code",
   "execution_count": 37,
   "id": "73d95d72",
   "metadata": {},
   "outputs": [
    {
     "data": {
      "application/vnd.microsoft.datawrangler.viewer.v0+json": {
       "columns": [
        {
         "name": "index",
         "rawType": "int64",
         "type": "integer"
        },
        {
         "name": "name",
         "rawType": "object",
         "type": "string"
        },
        {
         "name": "year",
         "rawType": "int64",
         "type": "integer"
        },
        {
         "name": "selling_price",
         "rawType": "int64",
         "type": "integer"
        },
        {
         "name": "km_driven",
         "rawType": "int64",
         "type": "integer"
        },
        {
         "name": "fuel",
         "rawType": "object",
         "type": "string"
        },
        {
         "name": "seller_type",
         "rawType": "object",
         "type": "string"
        },
        {
         "name": "transmission",
         "rawType": "object",
         "type": "string"
        },
        {
         "name": "owner",
         "rawType": "object",
         "type": "string"
        },
        {
         "name": "mileage(km/ltr/kg)",
         "rawType": "float64",
         "type": "float"
        },
        {
         "name": "engine",
         "rawType": "float64",
         "type": "float"
        },
        {
         "name": "max_power",
         "rawType": "float64",
         "type": "float"
        },
        {
         "name": "seats",
         "rawType": "float64",
         "type": "float"
        },
        {
         "name": "car_age",
         "rawType": "int64",
         "type": "integer"
        },
        {
         "name": "price_per_km",
         "rawType": "float64",
         "type": "float"
        }
       ],
       "ref": "cab6385e-bb80-49dc-b802-679808f04044",
       "rows": [
        [
         "4961",
         "Maruti Ertiga VXI CNG Limited Edition",
         "2014",
         "545000",
         "35000",
         "CNG",
         "Individual",
         "Manual",
         "First Owner",
         "22.8",
         "1373.0",
         "80.9",
         "7.0",
         "11",
         "23903.508771929824"
        ],
        [
         "283",
         "Mercedes-Benz GL-Class 220d 4MATIC Sport",
         "2018",
         "4600000",
         "7976",
         "Diesel",
         "Individual",
         "Automatic",
         "First Owner",
         "17.9",
         "2143.0",
         "170.0",
         "5.0",
         "7",
         "256983.2402234637"
        ],
        [
         "2783",
         "Hyundai i10 Sportz 1.1L LPG",
         "2015",
         "375000",
         "60000",
         "LPG",
         "Individual",
         "Manual",
         "First Owner",
         "19.2",
         "1086.0",
         "68.05",
         "5.0",
         "10",
         "19531.25"
        ],
        [
         "133",
         "Jeep Wrangler 2016-2019 3.6 4X4",
         "2017",
         "4100000",
         "17000",
         "Petrol",
         "Individual",
         "Automatic",
         "First Owner",
         "9.5",
         "3604.0",
         "280.0",
         "5.0",
         "8",
         "431578.94736842107"
        ]
       ],
       "shape": {
        "columns": 14,
        "rows": 4
       }
      },
      "text/html": [
       "<div>\n",
       "<style scoped>\n",
       "    .dataframe tbody tr th:only-of-type {\n",
       "        vertical-align: middle;\n",
       "    }\n",
       "\n",
       "    .dataframe tbody tr th {\n",
       "        vertical-align: top;\n",
       "    }\n",
       "\n",
       "    .dataframe thead th {\n",
       "        text-align: right;\n",
       "    }\n",
       "</style>\n",
       "<table border=\"1\" class=\"dataframe\">\n",
       "  <thead>\n",
       "    <tr style=\"text-align: right;\">\n",
       "      <th></th>\n",
       "      <th>name</th>\n",
       "      <th>year</th>\n",
       "      <th>selling_price</th>\n",
       "      <th>km_driven</th>\n",
       "      <th>fuel</th>\n",
       "      <th>seller_type</th>\n",
       "      <th>transmission</th>\n",
       "      <th>owner</th>\n",
       "      <th>mileage(km/ltr/kg)</th>\n",
       "      <th>engine</th>\n",
       "      <th>max_power</th>\n",
       "      <th>seats</th>\n",
       "      <th>car_age</th>\n",
       "      <th>price_per_km</th>\n",
       "    </tr>\n",
       "  </thead>\n",
       "  <tbody>\n",
       "    <tr>\n",
       "      <th>4961</th>\n",
       "      <td>Maruti Ertiga VXI CNG Limited Edition</td>\n",
       "      <td>2014</td>\n",
       "      <td>545000</td>\n",
       "      <td>35000</td>\n",
       "      <td>CNG</td>\n",
       "      <td>Individual</td>\n",
       "      <td>Manual</td>\n",
       "      <td>First Owner</td>\n",
       "      <td>22.8</td>\n",
       "      <td>1373.0</td>\n",
       "      <td>80.90</td>\n",
       "      <td>7.0</td>\n",
       "      <td>11</td>\n",
       "      <td>23903.508772</td>\n",
       "    </tr>\n",
       "    <tr>\n",
       "      <th>283</th>\n",
       "      <td>Mercedes-Benz GL-Class 220d 4MATIC Sport</td>\n",
       "      <td>2018</td>\n",
       "      <td>4600000</td>\n",
       "      <td>7976</td>\n",
       "      <td>Diesel</td>\n",
       "      <td>Individual</td>\n",
       "      <td>Automatic</td>\n",
       "      <td>First Owner</td>\n",
       "      <td>17.9</td>\n",
       "      <td>2143.0</td>\n",
       "      <td>170.00</td>\n",
       "      <td>5.0</td>\n",
       "      <td>7</td>\n",
       "      <td>256983.240223</td>\n",
       "    </tr>\n",
       "    <tr>\n",
       "      <th>2783</th>\n",
       "      <td>Hyundai i10 Sportz 1.1L LPG</td>\n",
       "      <td>2015</td>\n",
       "      <td>375000</td>\n",
       "      <td>60000</td>\n",
       "      <td>LPG</td>\n",
       "      <td>Individual</td>\n",
       "      <td>Manual</td>\n",
       "      <td>First Owner</td>\n",
       "      <td>19.2</td>\n",
       "      <td>1086.0</td>\n",
       "      <td>68.05</td>\n",
       "      <td>5.0</td>\n",
       "      <td>10</td>\n",
       "      <td>19531.250000</td>\n",
       "    </tr>\n",
       "    <tr>\n",
       "      <th>133</th>\n",
       "      <td>Jeep Wrangler 2016-2019 3.6 4X4</td>\n",
       "      <td>2017</td>\n",
       "      <td>4100000</td>\n",
       "      <td>17000</td>\n",
       "      <td>Petrol</td>\n",
       "      <td>Individual</td>\n",
       "      <td>Automatic</td>\n",
       "      <td>First Owner</td>\n",
       "      <td>9.5</td>\n",
       "      <td>3604.0</td>\n",
       "      <td>280.00</td>\n",
       "      <td>5.0</td>\n",
       "      <td>8</td>\n",
       "      <td>431578.947368</td>\n",
       "    </tr>\n",
       "  </tbody>\n",
       "</table>\n",
       "</div>"
      ],
      "text/plain": [
       "                                          name  year  selling_price  \\\n",
       "4961     Maruti Ertiga VXI CNG Limited Edition  2014         545000   \n",
       "283   Mercedes-Benz GL-Class 220d 4MATIC Sport  2018        4600000   \n",
       "2783               Hyundai i10 Sportz 1.1L LPG  2015         375000   \n",
       "133            Jeep Wrangler 2016-2019 3.6 4X4  2017        4100000   \n",
       "\n",
       "      km_driven    fuel seller_type transmission        owner  \\\n",
       "4961      35000     CNG  Individual       Manual  First Owner   \n",
       "283        7976  Diesel  Individual    Automatic  First Owner   \n",
       "2783      60000     LPG  Individual       Manual  First Owner   \n",
       "133       17000  Petrol  Individual    Automatic  First Owner   \n",
       "\n",
       "      mileage(km/ltr/kg)  engine  max_power  seats  car_age   price_per_km  \n",
       "4961                22.8  1373.0      80.90    7.0       11   23903.508772  \n",
       "283                 17.9  2143.0     170.00    5.0        7  256983.240223  \n",
       "2783                19.2  1086.0      68.05    5.0       10   19531.250000  \n",
       "133                  9.5  3604.0     280.00    5.0        8  431578.947368  "
      ]
     },
     "execution_count": 37,
     "metadata": {},
     "output_type": "execute_result"
    }
   ],
   "source": [
    "# Find the index of the most expensive car in each fuel type group\n",
    "most_expensive_per_fuel = df.loc[df.groupby(\"fuel\")[\"selling_price\"].idxmax()]\n",
    "\n",
    "most_expensive_per_fuel"
   ]
  },
  {
   "cell_type": "code",
   "execution_count": 38,
   "id": "fc67bf5c",
   "metadata": {},
   "outputs": [
    {
     "name": "stdout",
     "output_type": "stream",
     "text": [
      "The most common brand is Maruti with 2165 cars.\n"
     ]
    }
   ],
   "source": [
    "# brand appearing most frequently\n",
    "# Extract brand name from car name\n",
    "df['brand'] = df['name'].str.split().str[0]\n",
    "\n",
    "# Now find the most common brand\n",
    "most_common_brand = df['brand'].value_counts().idxmax()\n",
    "brand_count = df['brand'].value_counts().max()\n",
    "\n",
    "print(f\"The most common brand is {most_common_brand} with {brand_count} cars.\")\n"
   ]
  },
  {
   "cell_type": "markdown",
   "id": "9222c0fc",
   "metadata": {},
   "source": [
    "- value_counts(): counts how many times each brand appears\n",
    "- idxmax(): returns the brand with the highest count\n",
    "- .max(): gets the highest frequency number"
   ]
  },
  {
   "cell_type": "code",
   "execution_count": 39,
   "id": "b7e54459",
   "metadata": {},
   "outputs": [
    {
     "name": "stdout",
     "output_type": "stream",
     "text": [
      "     fuel transmission  count\n",
      "2  Diesel       Manual   3457\n",
      "5  Petrol       Manual   2791\n",
      "1  Diesel    Automatic    284\n",
      "4  Petrol    Automatic    280\n",
      "0     CNG       Manual     56\n"
     ]
    }
   ],
   "source": [
    "# Top 5 most common combinations\n",
    "top_combinations = (\n",
    "    df.groupby(['fuel', 'transmission'])\n",
    "    .size()\n",
    "    .reset_index(name='count')\n",
    "    .sort_values(by='count', ascending=False)\n",
    "    .head(5)\n",
    ")\n",
    "\n",
    "print(top_combinations)\n"
   ]
  },
  {
   "cell_type": "markdown",
   "id": "5a77ab7a",
   "metadata": {},
   "source": [
    "#### Machine Learning"
   ]
  },
  {
   "cell_type": "markdown",
   "id": "87aac2f8",
   "metadata": {},
   "source": [
    "#### Main Assumptions of linear regression\n",
    "- a)Linearity: The relationship between independent variables(features) and the dependent variable(label) should be linear. If not, the model will produce biased predictions.\n",
    "- b)Homoscedastiscity: Variance of residuals(errors) should be constant across all levels of the independent variables. changing variance would make the model less reliable.\n",
    "- c)Normality of residuals: Residuals should be normally distributed to ensure valid confidence intervals and hypothesis tests.\n",
    "- d)No multicollinearity: Independent variables should not be highly correlated with each other as this would make it hard to determine the effect of each variable.\n",
    "- e)Independence of errors: Residuals should be independent from each other "
   ]
  },
  {
   "cell_type": "code",
   "execution_count": 40,
   "id": "5c23d3e6",
   "metadata": {},
   "outputs": [],
   "source": [
    "import numpy as np\n",
    "from statsmodels.formula.api import ols\n",
    "import statsmodels.api as sm\n",
    "from statsmodels.stats.outliers_influence import variance_inflation_factor\n",
    "from scipy.stats import shapiro"
   ]
  },
  {
   "cell_type": "code",
   "execution_count": 41,
   "id": "3d7655a9",
   "metadata": {},
   "outputs": [],
   "source": [
    "# assuming 'selling_price' is the target and mileage & car_age are taken as features\n",
    "x = df[['mileage(km/ltr/kg)', 'car_age']]\n",
    "y = df['selling_price']\n",
    "\n",
    "# Add constant for statsmodels\n",
    "x_const = sm.add_constant(x)\n",
    "model = sm.OLS(y, x_const).fit()\n",
    "\n",
    "# Predictions & residuals\n",
    "predictions = model.predict(x_const)\n",
    "residuals = y - predictions"
   ]
  },
  {
   "cell_type": "code",
   "execution_count": 42,
   "id": "2c36d45f",
   "metadata": {},
   "outputs": [
    {
     "data": {
      "image/png": "[encoded data removed]",
      "text/plain": [
       "<Figure size 640x480 with 1 Axes>"
      ]
     },
     "metadata": {},
     "output_type": "display_data"
    }
   ],
   "source": [
    "# 1. Linearity check (scatter plot of predicted vs. actual)\n",
    "plt.scatter(predictions, y, alpha=0.5)\n",
    "plt.xlabel(\"Predicted Selling Price\")\n",
    "plt.ylabel(\"Actual Selling Price\")\n",
    "plt.title(\"Linearity Check\")\n",
    "plt.show()"
   ]
  },
  {
   "cell_type": "markdown",
   "id": "d08100a4",
   "metadata": {},
   "source": [
    "- The scatter plot shows curves instead of a roughly straight line thus the relationship may not be linear"
   ]
  },
  {
   "cell_type": "code",
   "execution_count": 43,
   "id": "68a7f708",
   "metadata": {},
   "outputs": [
    {
     "data": {
      "image/png": "[encoded data removed]",
      "text/plain": [
       "<Figure size 640x480 with 1 Axes>"
      ]
     },
     "metadata": {},
     "output_type": "display_data"
    }
   ],
   "source": [
    "# 2. Homoscedasticity check (residuals vs. predicted)\n",
    "plt.scatter(predictions, residuals, alpha=0.5)\n",
    "plt.axhline(y=0, color='red', linestyle='--')\n",
    "plt.xlabel(\"Predicted Selling Price\")\n",
    "plt.ylabel(\"Residuals\")\n",
    "plt.title(\"Homoscedasticity Check\")\n",
    "plt.show()"
   ]
  },
  {
   "cell_type": "code",
   "execution_count": 44,
   "id": "c18c90a6",
   "metadata": {},
   "outputs": [
    {
     "data": {
      "image/png": "[encoded data removed]",
      "text/plain": [
       "<Figure size 640x480 with 1 Axes>"
      ]
     },
     "metadata": {},
     "output_type": "display_data"
    },
    {
     "data": {
      "image/png": "[encoded data removed]",
      "text/plain": [
       "<Figure size 640x480 with 1 Axes>"
      ]
     },
     "metadata": {},
     "output_type": "display_data"
    }
   ],
   "source": [
    "# 3. Normality of residuals (histogram & Q-Q plot)\n",
    "sns.histplot(residuals, kde=True)\n",
    "plt.title(\"Residuals Distribution\")\n",
    "plt.show()\n",
    "\n",
    "sm.qqplot(residuals, line='45', fit=True)\n",
    "plt.title(\"Q-Q Plot of Residuals\")\n",
    "plt.show()"
   ]
  },
  {
   "cell_type": "code",
   "execution_count": 45,
   "id": "79abe590",
   "metadata": {},
   "outputs": [
    {
     "name": "stdout",
     "output_type": "stream",
     "text": [
      "Shapiro-Wilk test statistic: 0.7226242321858296 p-value: 3.945879881576929e-75\n"
     ]
    },
    {
     "name": "stderr",
     "output_type": "stream",
     "text": [
      "c:\\Users\\USER\\anaconda3\\Lib\\site-packages\\scipy\\stats\\_axis_nan_policy.py:586: UserWarning: scipy.stats.shapiro: For N > 5000, computed p-value may not be accurate. Current N is 6906.\n",
      "  res = hypotest_fun_out(*samples, **kwds)\n"
     ]
    }
   ],
   "source": [
    "# Shapiro-Wilk test for normality\n",
    "shapiro_test = shapiro(residuals)\n",
    "print(\"Shapiro-Wilk test statistic:\", shapiro_test.statistic, \"p-value:\", shapiro_test.pvalue)\n"
   ]
  },
  {
   "cell_type": "code",
   "execution_count": 46,
   "id": "49ff93c2",
   "metadata": {},
   "outputs": [
    {
     "name": "stdout",
     "output_type": "stream",
     "text": [
      "              Feature       VIF\n",
      "0  mileage(km/ltr/kg)  5.318508\n",
      "1             car_age  5.318508\n"
     ]
    }
   ],
   "source": [
    "# 4. Multicollinearity check using VIF\n",
    "vif_data = pd.DataFrame()\n",
    "vif_data[\"Feature\"] = x.columns\n",
    "vif_data[\"VIF\"] = [variance_inflation_factor(x.values, i) for i in range(x.shape[1])]\n",
    "print(vif_data)"
   ]
  },
  {
   "cell_type": "markdown",
   "id": "e7b53d32",
   "metadata": {},
   "source": [
    "- VIF > 5 thus there is high multicollinearity"
   ]
  },
  {
   "cell_type": "code",
   "execution_count": 47,
   "id": "157caaba",
   "metadata": {},
   "outputs": [
    {
     "name": "stdout",
     "output_type": "stream",
     "text": [
      "Intercept: 555061.1764394648\n",
      "Coefficients:\n",
      "  mileage(km/ltr/kg): -2026.01\n",
      "  car_age: -52800.96\n",
      "  engine: 417.52\n"
     ]
    }
   ],
   "source": [
    "# Training the linear regression model\n",
    "from sklearn.model_selection import train_test_split\n",
    "from sklearn.linear_model import LinearRegression\n",
    "\n",
    "# 1. Select features and target\n",
    "features = ['mileage(km/ltr/kg)', 'car_age', 'engine']  \n",
    "target = 'selling_price'\n",
    "\n",
    "x = df[features]\n",
    "y = df[target]\n",
    "\n",
    "# 2. Split into Train and Test sets (80% train, 20% test)\n",
    "x_train, x_test, y_train, y_test = train_test_split(x, y, test_size=0.2, random_state=42)\n",
    "\n",
    "# 3. Create and train the model\n",
    "model = LinearRegression()\n",
    "model.fit(x_train, y_train)\n",
    "\n",
    "# 4. Print coefficients and intercept\n",
    "print(\"Intercept:\", model.intercept_)\n",
    "print(\"Coefficients:\")\n",
    "\n",
    "for feature, coef in zip(features, model.coef_):\n",
    "    print(f\"  {feature}: {coef:.2f}\")"
   ]
  },
  {
   "cell_type": "code",
   "execution_count": 48,
   "id": "8f7065ee",
   "metadata": {},
   "outputs": [
    {
     "name": "stdout",
     "output_type": "stream",
     "text": [
      "R² Score: 0.4773\n",
      "Mean Squared Error: 94879534002.37\n"
     ]
    }
   ],
   "source": [
    "# Evaluating the linear regression model\n",
    "from sklearn.metrics import r2_score, mean_squared_error\n",
    "\n",
    "# Make predictions on the test set\n",
    "y_pred = model.predict(x_test)\n",
    "\n",
    "# Calculate R² score\n",
    "r2 = r2_score(y_test, y_pred)\n",
    "\n",
    "# Calculate Mean Squared Error\n",
    "mse = mean_squared_error(y_test, y_pred)\n",
    "\n",
    "print(f\"R² Score: {r2:.4f}\")\n",
    "print(f\"Mean Squared Error: {mse:.2f}\")"
   ]
  },
  {
   "cell_type": "markdown",
   "id": "ce07367d",
   "metadata": {},
   "source": [
    "#### Explanation\n",
    "- R^2 Score: The model expalins about 47.7% of the variation in car selling prices so under half of the price differences between cars can be predicted. This is a moderate performance but there is a lot of unexpalined variation. The relationship between the features and price might not be purely linear.\n"
   ]
  },
  {
   "cell_type": "code",
   "execution_count": 49,
   "id": "747a84a9",
   "metadata": {},
   "outputs": [
    {
     "name": "stdout",
     "output_type": "stream",
     "text": [
      "Linear Regression -> R²: 0.6996, MSE: 54526251640.02\n",
      "Lasso Regression  -> R²: 0.7451, MSE: 46272096402.50\n"
     ]
    },
    {
     "name": "stderr",
     "output_type": "stream",
     "text": [
      "c:\\Users\\USER\\anaconda3\\Lib\\site-packages\\sklearn\\linear_model\\_coordinate_descent.py:656: ConvergenceWarning: Objective did not converge. You might want to increase the number of iterations, check the scale of the features or consider increasing regularisation. Duality gap: 1.132e+14, tolerance: 9.946e+10\n",
      "  model = cd_fast.sparse_enet_coordinate_descent(\n"
     ]
    }
   ],
   "source": [
    "# applying lasso regression\n",
    "from sklearn.model_selection import train_test_split\n",
    "from sklearn.linear_model import LinearRegression, Lasso\n",
    "from sklearn.metrics import r2_score, mean_squared_error\n",
    "from sklearn.preprocessing import OneHotEncoder\n",
    "from sklearn.compose import ColumnTransformer\n",
    "from sklearn.pipeline import Pipeline\n",
    "from sklearn.impute import SimpleImputer\n",
    "\n",
    "# Select features & target\n",
    "features = [\n",
    "    \"year\", \"km_driven\", \"fuel\", \"seller_type\", \"transmission\", \"owner\",\n",
    "    \"mileage(km/ltr/kg)\", \"engine\", \"max_power\", \"seats\", \"car_age\", \"brand\"\n",
    "]\n",
    "target = \"selling_price\"\n",
    "\n",
    "x = df[features]\n",
    "y = df[target]\n",
    "\n",
    "\n",
    "# Preprocessing\n",
    "# Identify categorical & numeric columns\n",
    "categorical_cols = [\"fuel\", \"seller_type\", \"transmission\", \"owner\", \"brand\"]\n",
    "numeric_cols = [col for col in features if col not in categorical_cols]\n",
    "\n",
    "# Pipelines for numeric & categorical preprocessing\n",
    "numeric_transformer = Pipeline(steps=[\n",
    "    (\"imputer\", SimpleImputer(strategy=\"mean\"))\n",
    "])\n",
    "\n",
    "categorical_transformer = Pipeline(steps=[\n",
    "    (\"imputer\", SimpleImputer(strategy=\"most_frequent\")),\n",
    "    (\"onehot\", OneHotEncoder(handle_unknown=\"ignore\"))\n",
    "])\n",
    "\n",
    "preprocessor = ColumnTransformer(\n",
    "    transformers=[\n",
    "        (\"num\", numeric_transformer, numeric_cols),\n",
    "        (\"cat\", categorical_transformer, categorical_cols)\n",
    "    ]\n",
    ")\n",
    "\n",
    "\n",
    "# Train/Test split\n",
    "x_train, x_test, y_train, y_test = train_test_split(x, y, test_size=0.2, random_state=42)\n",
    "\n",
    "\n",
    "# Linear Regression\n",
    "lr_model = Pipeline(steps=[(\"preprocessor\", preprocessor),\n",
    "                           (\"model\", LinearRegression())])\n",
    "lr_model.fit(x_train, y_train)\n",
    "y_pred_lr = lr_model.predict(x_test)\n",
    "\n",
    "r2_lr = r2_score(y_test, y_pred_lr)\n",
    "mse_lr = mean_squared_error(y_test, y_pred_lr)\n",
    "\n",
    "\n",
    "# Lasso Regression\n",
    "lasso_model = Pipeline(steps=[(\"preprocessor\", preprocessor),\n",
    "                              (\"model\", Lasso(alpha=0.1, max_iter=10000))])\n",
    "lasso_model.fit(x_train, y_train)\n",
    "y_pred_lasso = lasso_model.predict(x_test)\n",
    "\n",
    "r2_lasso = r2_score(y_test, y_pred_lasso)\n",
    "mse_lasso = mean_squared_error(y_test, y_pred_lasso)\n",
    "\n",
    "\n",
    "# Compare Results\n",
    "print(\"Linear Regression -> R²: {:.4f}, MSE: {:.2f}\".format(r2_lr, mse_lr))\n",
    "print(\"Lasso Regression  -> R²: {:.4f}, MSE: {:.2f}\".format(r2_lasso, mse_lasso))\n"
   ]
  },
  {
   "cell_type": "markdown",
   "id": "b765974e",
   "metadata": {},
   "source": [
    "- Linear Regression: 0.6997: The model explains about 69.97% of the variation in selling prices\n",
    "- Lasso Regression: 0.7452: The model explains 74.52% of the variation in selling prices making it better than linear regression.\n",
    "- Lasso regression improved the model's explanatory power thus it covers more of the relationships between features and selling price\n",
    "- Linear Regression: 54,500,698,124.55\n",
    "- Lasso Regression: 46,257,818,931.20\n",
    "- Lower MSE means better prediction accuracy. On average, Lasso’s predictions are less off from the actual selling prices compared to Linear Regression.\n",
    "- Lasso adds l1 regularization that penalizes large coefficients and can set some to 0. This helps reduce overfitting especially when some features are irrelevant or highly correlated. Lasso down-weighted noisy features, improving accuracy and generalization."
   ]
  },
  {
   "cell_type": "code",
   "execution_count": 50,
   "id": "07804701",
   "metadata": {},
   "outputs": [
    {
     "name": "stdout",
     "output_type": "stream",
     "text": [
      "Ridge Regression -> R²: 0.7475, MSE: 45824258968.89\n"
     ]
    }
   ],
   "source": [
    "# converting values in fuel column to numeric and applying ridge regression\n",
    "\n",
    "# One-hot encode categorical columns in BOTH train and test\n",
    "x_train_encoded = pd.get_dummies(x_train, drop_first=True)\n",
    "x_test_encoded  = pd.get_dummies(x_test, drop_first=True)\n",
    "\n",
    "# Align columns (important in case test set is missing some categories)\n",
    "x_train_encoded, x_test_encoded = x_train_encoded.align(x_test_encoded, join='left', axis=1, fill_value=0)\n",
    "\n",
    "# Fit Ridge on the encoded data\n",
    "from sklearn.linear_model import Ridge\n",
    "from sklearn.metrics import r2_score, mean_squared_error\n",
    "\n",
    "ridge = Ridge(alpha=1.0)\n",
    "ridge.fit(x_train_encoded, y_train)\n",
    "\n",
    "y_pred_ridge = ridge.predict(x_test_encoded)\n",
    "\n",
    "ridge_r2 = r2_score(y_test, y_pred_ridge)\n",
    "ridge_mse = mean_squared_error(y_test, y_pred_ridge)\n",
    "\n",
    "print(f\"Ridge Regression -> R²: {ridge_r2:.4f}, MSE: {ridge_mse:.2f}\")\n"
   ]
  },
  {
   "cell_type": "markdown",
   "id": "a10cb97c",
   "metadata": {},
   "source": [
    "- Ridge adds l2 regularization that penalizes large coefficients but never sets them to 0. It' s good when all features have some predictive power but overfitting can still be controlled. works best when there are features that are highly correlated(multicollinearity)\n",
    "- Ridge can perform better than lasso when; all predictors contribute a little bit to the output, when the dataset is not very sparse.\n",
    "- Ridge can perform worse than lasso; if many features are irrelevant they will be kept and can hurt interpretability, if feature selection is needed for interpretability. \n",
    "- R^2 = 0.7475: Ridge explains 74.75% of the variance in the target variable thus it captured pattterns that plain linear regression missed.\n",
    "- MSE = 45.82 billion: The model's squared prediction is lower than both lasso and linear showing smaller prediction errors. "
   ]
  },
  {
   "cell_type": "code",
   "execution_count": 54,
   "id": "94820405",
   "metadata": {},
   "outputs": [
    {
     "name": "stdout",
     "output_type": "stream",
     "text": [
      "R² scores per fold: [0.77253918 0.74533162 0.73169202 0.71874843 0.75498248]\n",
      "Mean R²: 0.7446587467878549\n",
      "MSE per fold: [5.29519090e+10 4.87003638e+10 4.27483830e+10 4.29270113e+10\n",
      " 4.04609396e+10]\n",
      "Mean MSE: 45557721336.48597\n"
     ]
    }
   ],
   "source": [
    "# 1. One-hot encode the whole feature set BEFORE cross-validation\n",
    "x_encoded = pd.get_dummies(x, drop_first=True)  # use your full x, not x_train\n",
    "# (make sure `x` here is your entire DataFrame of features, not just training set)\n",
    "\n",
    "# 2. Ridge Regression with cross-validation\n",
    "from sklearn.linear_model import Ridge\n",
    "from sklearn.model_selection import cross_val_score\n",
    "\n",
    "ridge = Ridge(alpha=1.0)\n",
    "\n",
    "# R² scores\n",
    "r2_scores = cross_val_score(ridge, x_encoded, y, cv=5, scoring='r2')\n",
    "\n",
    "# MSE scores\n",
    "mse_scores = cross_val_score(ridge, x_encoded, y, cv=5, scoring='neg_mean_squared_error')\n",
    "\n",
    "# Convert negative MSE to positive\n",
    "mse_scores = -mse_scores\n",
    "\n",
    "print(\"R² scores per fold:\", r2_scores)\n",
    "print(\"Mean R²:\", np.mean(r2_scores))\n",
    "print(\"MSE per fold:\", mse_scores)\n",
    "print(\"Mean MSE:\", np.mean(mse_scores))\n"
   ]
  },
  {
   "cell_type": "markdown",
   "id": "2a0b86ba",
   "metadata": {},
   "source": [
    "#### Why cross-validation is better\n",
    "- when a k-fold cross-validation is done the dataset is split into k equal parts. The model is trained on k-1 folds and tested on the remaining folds repeated k times so every row is tested once. The final performance is the average of all k tests giving; more reliable estimate of performance, less variance in results, better generalization check before using unseen data.\n",
    "- Mean R^2 0.74465: The model explains 74.5% of the variability in selling prices across unseen data. Fold scores range from 0.72 to 0.77 showing the performance is fairly consistent and the model is stable.\n",
    "- cross validation gives better estimate than a single train-test split → CV uses 5 different train/test combinations, so the mean R² and MSE are less sensitive to one “lucky” or “unlucky” split.\n",
    "- Compared to Linear Regression, Ridge often slightly improves generalization by penalizing large coefficients, which helps with multicollinearity and overfitting."
   ]
  },
  {
   "cell_type": "code",
   "execution_count": 55,
   "id": "53821dda",
   "metadata": {},
   "outputs": [
    {
     "data": {
      "image/png": "[encoded data removed]",
      "text/plain": [
       "<Figure size 700x600 with 1 Axes>"
      ]
     },
     "metadata": {},
     "output_type": "display_data"
    }
   ],
   "source": [
    "import matplotlib.pyplot as plt\n",
    "from sklearn.linear_model import Ridge\n",
    "\n",
    "# Train Ridge on the full training data\n",
    "ridge = Ridge(alpha=1.0)\n",
    "ridge.fit(x_train_encoded, y_train)\n",
    "\n",
    "# Predict on test data\n",
    "y_pred = ridge.predict(x_test_encoded)\n",
    "\n",
    "# Scatter plot: Actual vs Predicted\n",
    "plt.figure(figsize=(7, 6))\n",
    "plt.scatter(y_test, y_pred, alpha=0.6, edgecolor='k')\n",
    "plt.plot([y_test.min(), y_test.max()],\n",
    "         [y_test.min(), y_test.max()],\n",
    "         'r--', lw=2)  # Ideal line\n",
    "\n",
    "plt.xlabel('Actual Selling Price')\n",
    "plt.ylabel('Predicted Selling Price')\n",
    "plt.title('Ridge Regression: Predicted vs Actual Prices')\n",
    "plt.grid(True)\n",
    "plt.show()\n"
   ]
  },
  {
   "cell_type": "markdown",
   "id": "5cb164a2",
   "metadata": {},
   "source": [
    "- Points are reasonably close to the diagonal but with visible scatter.\n",
    "- At higher price ranges, the spread is wider — Ridge often struggles more at extremes because it shrinks coefficients, which can flatten predictions."
   ]
  },
  {
   "cell_type": "code",
   "execution_count": 56,
   "id": "74c01934",
   "metadata": {},
   "outputs": [
    {
     "name": "stdout",
     "output_type": "stream",
     "text": [
      "Best alpha: 0.1\n",
      "Best cross-validated R²: 0.753654598046215\n"
     ]
    }
   ],
   "source": [
    "# using gridsearchcv\n",
    "from sklearn.model_selection import GridSearchCV\n",
    "from sklearn.linear_model import Ridge\n",
    "\n",
    "# Define parameter grid\n",
    "param_grid = {'alpha': [0.01, 0.1, 1, 10, 100, 500, 1000]}\n",
    "\n",
    "# Ridge model\n",
    "ridge = Ridge()\n",
    "\n",
    "# GridSearchCV (5-fold cross-validation, scoring by R²)\n",
    "grid_search = GridSearchCV(ridge, param_grid, cv=5, scoring='r2')\n",
    "grid_search.fit(x_train_encoded, y_train)\n",
    "\n",
    "# Best alpha and score\n",
    "print(\"Best alpha:\", grid_search.best_params_['alpha'])\n",
    "print(\"Best cross-validated R²:\", grid_search.best_score_)\n"
   ]
  },
  {
   "cell_type": "markdown",
   "id": "ab420d7a",
   "metadata": {},
   "source": [
    "- Best alpha 0.1: A very small amount of regularization gave the best performance. The model benefits slightly from shrinking the coefficients to reduce overfitting but not too much.The dataset has moderate multicollinearity\n",
    "- R^2 0.75: The model explains about 75% of the variance in house prices. The value improved showing hyperparameter tuning helped."
   ]
  }
 ],
 "metadata": {
  "kernelspec": {
   "display_name": "base",
   "language": "python",
   "name": "python3"
  },
  "language_info": {
   "codemirror_mode": {
    "name": "ipython",
    "version": 3
   },
   "file_extension": ".py",
   "mimetype": "text/x-python",
   "name": "python",
   "nbconvert_exporter": "python",
   "pygments_lexer": "ipython3",
   "version": "3.13.5"
  }
 },
 "nbformat": 4,
 "nbformat_minor": 5
}
